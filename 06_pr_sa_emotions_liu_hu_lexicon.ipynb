{
 "cells": [
  {
   "cell_type": "markdown",
   "metadata": {},
   "source": [
    "## Use Liu Hu Lexicon\n",
    "\n",
    "from NLTK, use the liu_hu_lexicon to determine the number of positive, negative, neutral words in each training and testing sample and create a disposition (1=positive, -1=negative, 0=neutral ) and add these as features to the test data.\n",
    "\n",
    "It took such a long time to create these features I decided to run the features creation on the raw training and testing data, then create a new csv file with the original text PLUS the new features.  This data set was used during the training and testing.\n",
    "\n"
   ]
  },
  {
   "cell_type": "code",
   "execution_count": 16,
   "metadata": {
    "collapsed": true
   },
   "outputs": [],
   "source": [
    "import numpy as np\n",
    "import time\n",
    "from sklearn.naive_bayes import MultinomialNB\n",
    "from sklearn.svm import LinearSVC\n",
    "from sklearn.feature_extraction.text import TfidfVectorizer, CountVectorizer\n",
    "from sklearn.model_selection import StratifiedKFold\n",
    "import pandas as pd\n",
    "from sklearn import metrics\n",
    "from sklearn.linear_model import LogisticRegression\n",
    "from stemming.porter2 import stem\n",
    "from sklearn.pipeline import Pipeline\n",
    "from sklearn.pipeline import make_pipeline, make_union\n",
    "from sentiment_analysis.transformers import RemoveEllipseTransformer, RemoveHtmlEncodedTransformer, RemoveNumbersTransformer, RemoveSpecialCharactersTransformer, RemoveUsernameTransformer, RemoveUrlsTransformer\n",
    "from sklearn.preprocessing import LabelEncoder, FunctionTransformer\n",
    "from sklearn.model_selection import cross_val_score\n",
    "from sklearn.base import TransformerMixin\n",
    "import re\n",
    "import nltk.stem\n",
    "from sklearn.model_selection import GridSearchCV\n",
    "from sklearn.model_selection import train_test_split\n",
    "from sklearn.linear_model import SGDClassifier\n",
    "from nltk.sentiment.util import mark_negation"
   ]
  },
  {
   "cell_type": "code",
   "execution_count": 17,
   "metadata": {
    "collapsed": true
   },
   "outputs": [],
   "source": [
    "training_data = pd.read_csv('../data/kaggle/sa-emotions/train_data.csv')\n",
    "testing_data = pd.read_csv('../data/kaggle/sa-emotions/test_data.csv')"
   ]
  },
  {
   "cell_type": "code",
   "execution_count": 18,
   "metadata": {
    "collapsed": true
   },
   "outputs": [],
   "source": [
    "def liu_hu_lexicon(sentence, verbose=False):\n",
    "    \"\"\"\n",
    "    Basic example of sentiment classification using Liu and Hu opinion lexicon.\n",
    "    This function simply counts the number of positive, negative and neutral words\n",
    "    in the sentence and classifies it depending on which polarity is more represented.\n",
    "    Words that do not appear in the lexicon are considered as neutral.\n",
    "\n",
    "    :param sentence: a sentence whose polarity has to be classified.\n",
    "    :param plot: if True, plot a visual representation of the sentence polarity.\n",
    "    :return array of integers: 1 = positive, 0 = neutral, -1 = negative\n",
    "    \"\"\"\n",
    "    from nltk.corpus import opinion_lexicon\n",
    "    from nltk.tokenize import treebank\n",
    "\n",
    "    tokenizer = treebank.TreebankWordTokenizer()\n",
    "    pos_words = 0\n",
    "    neg_words = 0\n",
    "    neu_words = 0\n",
    "    tokenized_sent = [word.lower() for word in tokenizer.tokenize(sentence)]\n",
    "\n",
    "    x = list(range(len(tokenized_sent))) # x axis for the plot\n",
    "    y = []\n",
    "\n",
    "    for word in tokenized_sent:\n",
    "        if word in opinion_lexicon.positive():\n",
    "            pos_words += 1\n",
    "            y.append(1) # positive\n",
    "        elif word in opinion_lexicon.negative():\n",
    "            neg_words += 1\n",
    "            y.append(-1) # negative\n",
    "        else:\n",
    "            neu_words += 1\n",
    "            y.append(0) # neutral\n",
    "\n",
    "    y_sum = sum(y) \n",
    "    if y_sum > 0:\n",
    "        disposition = 1\n",
    "    elif y_sum < 0:\n",
    "        disposition = -1\n",
    "    else:\n",
    "        disposition = 0\n",
    "    \n",
    "    if verbose:\n",
    "        if disposition == 1:\n",
    "            print('Positive: {}'.format(sentence))\n",
    "        elif disposition == -1:\n",
    "            print('Negative: {}'.format(sentence))\n",
    "        else:\n",
    "            print('Neutral: {}'.format(sentence))\n",
    "\n",
    "    return pd.Series({'pos_words':pos_words/len(tokenized_sent), 'neg_words':neg_words/len(tokenized_sent), 'neu_words':neu_words/len(tokenized_sent), 'disposition':disposition})\n"
   ]
  },
  {
   "cell_type": "code",
   "execution_count": 19,
   "metadata": {
    "collapsed": true
   },
   "outputs": [],
   "source": [
    "# THIS TAKES A VERY VERY LONG TIME\n",
    "#anger_df = training_data[(training_data.sentiment == 'anger')]\n",
    "#anger_df.head()\n",
    "#liu_hu_lexicon_series = training_data.content.apply(liu_hu_lexicon)"
   ]
  },
  {
   "cell_type": "code",
   "execution_count": 20,
   "metadata": {
    "collapsed": true
   },
   "outputs": [],
   "source": [
    "df2 = training_data['content'].apply(liu_hu_lexicon)"
   ]
  },
  {
   "cell_type": "code",
   "execution_count": 21,
   "metadata": {
    "collapsed": true
   },
   "outputs": [],
   "source": [
    "result = pd.concat([training_data, df2], axis=1)\n",
    "result.to_csv('../data/kaggle/sa-emotions/train_data_lexicon.csv')"
   ]
  },
  {
   "cell_type": "code",
   "execution_count": 22,
   "metadata": {
    "collapsed": true
   },
   "outputs": [],
   "source": [
    "df3 = testing_data['content'].apply(liu_hu_lexicon)\n",
    "result = pd.concat([testing_data, df3], axis=1)\n",
    "result.to_csv('../data/kaggle/sa-emotions/test_data_lexicon.csv')"
   ]
  }
 ],
 "metadata": {
  "kernelspec": {
   "display_name": "Python 3",
   "language": "python",
   "name": "python3"
  },
  "language_info": {
   "codemirror_mode": {
    "name": "ipython",
    "version": 3
   },
   "file_extension": ".py",
   "mimetype": "text/x-python",
   "name": "python",
   "nbconvert_exporter": "python",
   "pygments_lexer": "ipython3",
   "version": "3.6.1"
  }
 },
 "nbformat": 4,
 "nbformat_minor": 2
}
