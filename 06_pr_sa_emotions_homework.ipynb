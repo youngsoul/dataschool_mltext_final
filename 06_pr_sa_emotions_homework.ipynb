{
 "cells": [
  {
   "cell_type": "markdown",
   "metadata": {},
   "source": [
    "## DataSchool - Machine Learning with Text and Python:  \n",
    "\n",
    "### Week 6 Self Imposed Homework\n",
    "\n",
    "I am going to use the Kaggle competition that inspired me to sign up for this course.  Using what I have learned in the Machine Learning with Text course, I will attempt to beat the scores on the leader board.\n",
    "\n",
    "The Kaggle competition is:\n",
    "\n",
    "![SA Image](sa_emotions_picture.png) \n",
    "\n",
    "### [Sentiment Analysis: Emotion in Text.](https://www.kaggle.com/c/sa-emotions)\n",
    "\n",
    "*Identify emotion in text using sentiment analysis.*"
   ]
  },
  {
   "cell_type": "code",
   "execution_count": 196,
   "metadata": {},
   "outputs": [],
   "source": [
    "import numpy as np\n",
    "import time\n",
    "from sklearn.naive_bayes import MultinomialNB\n",
    "from sklearn.svm import LinearSVC\n",
    "from sklearn.feature_extraction.text import TfidfVectorizer, CountVectorizer\n",
    "from sklearn.model_selection import StratifiedKFold\n",
    "import pandas as pd\n",
    "from sklearn import metrics\n",
    "from sklearn.linear_model import LogisticRegression\n",
    "from stemming.porter2 import stem\n",
    "from sklearn.pipeline import Pipeline\n",
    "from sklearn.pipeline import make_pipeline, make_union\n",
    "from sentiment_analysis.transformers import RemoveEllipseTransformer, RemoveHtmlEncodedTransformer, RemoveNumbersTransformer, RemoveSpecialCharactersTransformer, RemoveUsernameTransformer, RemoveUrlsTransformer\n",
    "from sklearn.preprocessing import LabelEncoder, FunctionTransformer\n",
    "from sklearn.model_selection import cross_val_score\n",
    "from sklearn.base import TransformerMixin\n",
    "import re\n",
    "import nltk.stem\n",
    "from sklearn.model_selection import GridSearchCV\n",
    "from sklearn.model_selection import train_test_split\n",
    "from sklearn.linear_model import SGDClassifier\n",
    "from nltk.sentiment.util import mark_negation"
   ]
  },
  {
   "cell_type": "code",
   "execution_count": 157,
   "metadata": {
    "collapsed": true
   },
   "outputs": [],
   "source": [
    "# allow plots to appear in the notebook\n",
    "%matplotlib inline"
   ]
  },
  {
   "cell_type": "code",
   "execution_count": 75,
   "metadata": {
    "collapsed": true
   },
   "outputs": [],
   "source": [
    "# read the training data\n",
    "training_data = pd.read_csv('../data/kaggle/sa-emotions/train_data.csv')"
   ]
  },
  {
   "cell_type": "code",
   "execution_count": 76,
   "metadata": {},
   "outputs": [
    {
     "data": {
      "text/plain": [
       "(30000, 2)"
      ]
     },
     "execution_count": 76,
     "metadata": {},
     "output_type": "execute_result"
    }
   ],
   "source": [
    "# look at the shape of the data.  Kaggle stated that the training data consisted of 30000 rows and 2 columns\n",
    "training_data.shape"
   ]
  },
  {
   "cell_type": "code",
   "execution_count": 77,
   "metadata": {},
   "outputs": [
    {
     "data": {
      "text/plain": [
       "sentiment    object\n",
       "content      object\n",
       "dtype: object"
      ]
     },
     "execution_count": 77,
     "metadata": {},
     "output_type": "execute_result"
    }
   ],
   "source": [
    "training_data.dtypes"
   ]
  },
  {
   "cell_type": "code",
   "execution_count": 78,
   "metadata": {
    "collapsed": true
   },
   "outputs": [],
   "source": [
    "# update the pd option to increase the column width so we can see more of the text\n",
    "pd.set_option('max_colwidth',200)"
   ]
  },
  {
   "cell_type": "code",
   "execution_count": 79,
   "metadata": {},
   "outputs": [
    {
     "data": {
      "text/html": [
       "<div>\n",
       "<style>\n",
       "    .dataframe thead tr:only-child th {\n",
       "        text-align: right;\n",
       "    }\n",
       "\n",
       "    .dataframe thead th {\n",
       "        text-align: left;\n",
       "    }\n",
       "\n",
       "    .dataframe tbody tr th {\n",
       "        vertical-align: top;\n",
       "    }\n",
       "</style>\n",
       "<table border=\"1\" class=\"dataframe\">\n",
       "  <thead>\n",
       "    <tr style=\"text-align: right;\">\n",
       "      <th></th>\n",
       "      <th>sentiment</th>\n",
       "      <th>content</th>\n",
       "    </tr>\n",
       "  </thead>\n",
       "  <tbody>\n",
       "    <tr>\n",
       "      <th>0</th>\n",
       "      <td>empty</td>\n",
       "      <td>@tiffanylue i know  i was listenin to bad habit earlier and i started freakin at his part =[</td>\n",
       "    </tr>\n",
       "    <tr>\n",
       "      <th>1000</th>\n",
       "      <td>worry</td>\n",
       "      <td>@Sageey My public talk in July got canceled and I don't know why.</td>\n",
       "    </tr>\n",
       "    <tr>\n",
       "      <th>2000</th>\n",
       "      <td>sadness</td>\n",
       "      <td>Epic ocd moment? I deleted my sims file that i spent hours building just because i set his favorite food wrong</td>\n",
       "    </tr>\n",
       "    <tr>\n",
       "      <th>3000</th>\n",
       "      <td>worry</td>\n",
       "      <td>[BBC] Malaria parasites becoming resistant to drugs  http://trunc.it/9yn5 ~ this is really not good as Malaria affects so many people</td>\n",
       "    </tr>\n",
       "    <tr>\n",
       "      <th>4000</th>\n",
       "      <td>neutral</td>\n",
       "      <td>my to do list is bananas, before i leave for Europe BOOOO</td>\n",
       "    </tr>\n",
       "    <tr>\n",
       "      <th>5000</th>\n",
       "      <td>sadness</td>\n",
       "      <td>darn it. I did it again.!  keep forgetting that darn &amp;quot;D&amp;quot; for DM's.....</td>\n",
       "    </tr>\n",
       "    <tr>\n",
       "      <th>6000</th>\n",
       "      <td>neutral</td>\n",
       "      <td>@chelsea_playboy R.I.P curls</td>\n",
       "    </tr>\n",
       "    <tr>\n",
       "      <th>7000</th>\n",
       "      <td>neutral</td>\n",
       "      <td>@Jeanise  I was going to say let's go to lunch...</td>\n",
       "    </tr>\n",
       "    <tr>\n",
       "      <th>8000</th>\n",
       "      <td>sadness</td>\n",
       "      <td>argh! why why why</td>\n",
       "    </tr>\n",
       "    <tr>\n",
       "      <th>9000</th>\n",
       "      <td>worry</td>\n",
       "      <td>@vronmcintyre I want an espresso machine</td>\n",
       "    </tr>\n",
       "    <tr>\n",
       "      <th>10000</th>\n",
       "      <td>love</td>\n",
       "      <td>@Crazy_Cindy  BIG HUGGS</td>\n",
       "    </tr>\n",
       "    <tr>\n",
       "      <th>11000</th>\n",
       "      <td>worry</td>\n",
       "      <td>is wondering y Mother Nature is making my life miserable</td>\n",
       "    </tr>\n",
       "    <tr>\n",
       "      <th>12000</th>\n",
       "      <td>happiness</td>\n",
       "      <td>Just got my paycheck... April bonus can b deposited 2day the rest, gotta wait til Mon.</td>\n",
       "    </tr>\n",
       "    <tr>\n",
       "      <th>13000</th>\n",
       "      <td>worry</td>\n",
       "      <td>I don't feel good.  .My throat hurts!!!!</td>\n",
       "    </tr>\n",
       "    <tr>\n",
       "      <th>14000</th>\n",
       "      <td>neutral</td>\n",
       "      <td>@QuindaS  your right.... How was your trip</td>\n",
       "    </tr>\n",
       "    <tr>\n",
       "      <th>15000</th>\n",
       "      <td>surprise</td>\n",
       "      <td>@RealJessicaAlba Is it true there won't be any Fantastic 4 sequels?  I wished they introduced a Franklin Richards character... will they?</td>\n",
       "    </tr>\n",
       "    <tr>\n",
       "      <th>16000</th>\n",
       "      <td>hate</td>\n",
       "      <td>I hate waiting in lines</td>\n",
       "    </tr>\n",
       "    <tr>\n",
       "      <th>17000</th>\n",
       "      <td>worry</td>\n",
       "      <td>@dunnybrasco Im home, phone died thou</td>\n",
       "    </tr>\n",
       "    <tr>\n",
       "      <th>18000</th>\n",
       "      <td>worry</td>\n",
       "      <td>is gonna be mad hungry when I get home. Forgot my money...</td>\n",
       "    </tr>\n",
       "    <tr>\n",
       "      <th>19000</th>\n",
       "      <td>sadness</td>\n",
       "      <td>really tired. and have to work the whole day tomorrow, the thought of it depresses me.  uncoooool....</td>\n",
       "    </tr>\n",
       "    <tr>\n",
       "      <th>20000</th>\n",
       "      <td>empty</td>\n",
       "      <td>Thanks for pointing out the crucial problems @thakkar. Both of them have been taken care of  (cc: @Netra)</td>\n",
       "    </tr>\n",
       "    <tr>\n",
       "      <th>21000</th>\n",
       "      <td>neutral</td>\n",
       "      <td>@KatieAlender ooh which two books did you buy?</td>\n",
       "    </tr>\n",
       "    <tr>\n",
       "      <th>22000</th>\n",
       "      <td>empty</td>\n",
       "      <td>@greyeyesgabriel You are clearly very busy  Take care of yourself, and I am sure you will be fine; takes one to know one ;)</td>\n",
       "    </tr>\n",
       "    <tr>\n",
       "      <th>23000</th>\n",
       "      <td>relief</td>\n",
       "      <td>is back in fine old melbourne town....</td>\n",
       "    </tr>\n",
       "    <tr>\n",
       "      <th>24000</th>\n",
       "      <td>hate</td>\n",
       "      <td>@girltrumpet yeahh  idk if i like owen anymore though... i kinda lost respect for him in an episode i recorded...</td>\n",
       "    </tr>\n",
       "    <tr>\n",
       "      <th>25000</th>\n",
       "      <td>fun</td>\n",
       "      <td>'Look at the tadpole'... 'No! ... Look at me!!!' ... Foolish dog  http://yfrog.com/05ixbj</td>\n",
       "    </tr>\n",
       "    <tr>\n",
       "      <th>26000</th>\n",
       "      <td>surprise</td>\n",
       "      <td>@azkikah the idiom?? doesn't ring a bell eh? hahaha. y'are really thinking of food?! nope. actually in the bathroom. teehee</td>\n",
       "    </tr>\n",
       "    <tr>\n",
       "      <th>27000</th>\n",
       "      <td>empty</td>\n",
       "      <td>@sugarrae i thought you would win!  Fabulously40 have some bots on her side?</td>\n",
       "    </tr>\n",
       "    <tr>\n",
       "      <th>28000</th>\n",
       "      <td>worry</td>\n",
       "      <td>@AnnebrittB slaying dragons &amp;amp; rescue innocents, this could be a good life movie   Make sure to take a camara and film!!!!</td>\n",
       "    </tr>\n",
       "    <tr>\n",
       "      <th>29000</th>\n",
       "      <td>neutral</td>\n",
       "      <td>@jareason left a comment on your blog post</td>\n",
       "    </tr>\n",
       "  </tbody>\n",
       "</table>\n",
       "</div>"
      ],
      "text/plain": [
       "       sentiment  \\\n",
       "0          empty   \n",
       "1000       worry   \n",
       "2000     sadness   \n",
       "3000       worry   \n",
       "4000     neutral   \n",
       "5000     sadness   \n",
       "6000     neutral   \n",
       "7000     neutral   \n",
       "8000     sadness   \n",
       "9000       worry   \n",
       "10000       love   \n",
       "11000      worry   \n",
       "12000  happiness   \n",
       "13000      worry   \n",
       "14000    neutral   \n",
       "15000   surprise   \n",
       "16000       hate   \n",
       "17000      worry   \n",
       "18000      worry   \n",
       "19000    sadness   \n",
       "20000      empty   \n",
       "21000    neutral   \n",
       "22000      empty   \n",
       "23000     relief   \n",
       "24000       hate   \n",
       "25000        fun   \n",
       "26000   surprise   \n",
       "27000      empty   \n",
       "28000      worry   \n",
       "29000    neutral   \n",
       "\n",
       "                                                                                                                                         content  \n",
       "0                                                   @tiffanylue i know  i was listenin to bad habit earlier and i started freakin at his part =[  \n",
       "1000                                                                           @Sageey My public talk in July got canceled and I don't know why.  \n",
       "2000                              Epic ocd moment? I deleted my sims file that i spent hours building just because i set his favorite food wrong  \n",
       "3000       [BBC] Malaria parasites becoming resistant to drugs  http://trunc.it/9yn5 ~ this is really not good as Malaria affects so many people  \n",
       "4000                                                                                   my to do list is bananas, before i leave for Europe BOOOO  \n",
       "5000                                                            darn it. I did it again.!  keep forgetting that darn &quot;D&quot; for DM's.....  \n",
       "6000                                                                                                                @chelsea_playboy R.I.P curls  \n",
       "7000                                                                                           @Jeanise  I was going to say let's go to lunch...  \n",
       "8000                                                                                                                           argh! why why why  \n",
       "9000                                                                                                    @vronmcintyre I want an espresso machine  \n",
       "10000                                                                                                                    @Crazy_Cindy  BIG HUGGS  \n",
       "11000                                                                                   is wondering y Mother Nature is making my life miserable  \n",
       "12000                                                     Just got my paycheck... April bonus can b deposited 2day the rest, gotta wait til Mon.  \n",
       "13000                                                                                                   I don't feel good.  .My throat hurts!!!!  \n",
       "14000                                                                                                 @QuindaS  your right.... How was your trip  \n",
       "15000  @RealJessicaAlba Is it true there won't be any Fantastic 4 sequels?  I wished they introduced a Franklin Richards character... will they?  \n",
       "16000                                                                                                                    I hate waiting in lines  \n",
       "17000                                                                                                      @dunnybrasco Im home, phone died thou  \n",
       "18000                                                                                 is gonna be mad hungry when I get home. Forgot my money...  \n",
       "19000                                      really tired. and have to work the whole day tomorrow, the thought of it depresses me.  uncoooool....  \n",
       "20000                                  Thanks for pointing out the crucial problems @thakkar. Both of them have been taken care of  (cc: @Netra)  \n",
       "21000                                                                                             @KatieAlender ooh which two books did you buy?  \n",
       "22000                @greyeyesgabriel You are clearly very busy  Take care of yourself, and I am sure you will be fine; takes one to know one ;)  \n",
       "23000                                                                                                     is back in fine old melbourne town....  \n",
       "24000                          @girltrumpet yeahh  idk if i like owen anymore though... i kinda lost respect for him in an episode i recorded...  \n",
       "25000                                                  'Look at the tadpole'... 'No! ... Look at me!!!' ... Foolish dog  http://yfrog.com/05ixbj  \n",
       "26000                @azkikah the idiom?? doesn't ring a bell eh? hahaha. y'are really thinking of food?! nope. actually in the bathroom. teehee  \n",
       "27000                                                               @sugarrae i thought you would win!  Fabulously40 have some bots on her side?  \n",
       "28000              @AnnebrittB slaying dragons &amp; rescue innocents, this could be a good life movie   Make sure to take a camara and film!!!!  \n",
       "29000                                                                                                 @jareason left a comment on your blog post  "
      ]
     },
     "execution_count": 79,
     "metadata": {},
     "output_type": "execute_result"
    }
   ],
   "source": [
    "# look at a small sample of the data by looking at every 1000th\n",
    "training_data[::1000]"
   ]
  },
  {
   "cell_type": "code",
   "execution_count": 80,
   "metadata": {},
   "outputs": [
    {
     "data": {
      "text/plain": [
       "sentiment    0\n",
       "content      0\n",
       "dtype: int64"
      ]
     },
     "execution_count": 80,
     "metadata": {},
     "output_type": "execute_result"
    }
   ],
   "source": [
    "# check for null or NaN values in the columns\n",
    "training_data.isnull().sum()"
   ]
  },
  {
   "cell_type": "code",
   "execution_count": 81,
   "metadata": {},
   "outputs": [
    {
     "data": {
      "text/plain": [
       "worry         7433\n",
       "neutral       6340\n",
       "sadness       4828\n",
       "happiness     2986\n",
       "love          2068\n",
       "surprise      1613\n",
       "hate          1187\n",
       "fun           1088\n",
       "relief        1021\n",
       "empty          659\n",
       "enthusiasm     522\n",
       "boredom        157\n",
       "anger           98\n",
       "Name: sentiment, dtype: int64"
      ]
     },
     "execution_count": 81,
     "metadata": {},
     "output_type": "execute_result"
    }
   ],
   "source": [
    "# look at the sentiment distribution\n",
    "training_data.sentiment.value_counts()"
   ]
  },
  {
   "cell_type": "code",
   "execution_count": 82,
   "metadata": {},
   "outputs": [
    {
     "data": {
      "text/plain": [
       "worry         0.247767\n",
       "neutral       0.211333\n",
       "sadness       0.160933\n",
       "happiness     0.099533\n",
       "love          0.068933\n",
       "surprise      0.053767\n",
       "hate          0.039567\n",
       "fun           0.036267\n",
       "relief        0.034033\n",
       "empty         0.021967\n",
       "enthusiasm    0.017400\n",
       "boredom       0.005233\n",
       "anger         0.003267\n",
       "Name: sentiment, dtype: float64"
      ]
     },
     "execution_count": 82,
     "metadata": {},
     "output_type": "execute_result"
    }
   ],
   "source": [
    "# look at the percent distribution of sentiment\n",
    "training_data.sentiment.value_counts()/training_data.sentiment.value_counts().sum()"
   ]
  },
  {
   "cell_type": "markdown",
   "metadata": {},
   "source": [
    "> Some of sentiments have a very low percent of the total count.  It is expected that it will be difficult to accurately predict anger and boredom."
   ]
  },
  {
   "cell_type": "code",
   "execution_count": 83,
   "metadata": {},
   "outputs": [
    {
     "data": {
      "text/plain": [
       "LabelEncoder()"
      ]
     },
     "execution_count": 83,
     "metadata": {},
     "output_type": "execute_result"
    }
   ],
   "source": [
    "# encode the sentiment outcomes as a number using the LabelEncoder\n",
    "# would like to create a column, e.g. sentiment_num, which is a numeric representation of the sentiment.\n",
    "# this will have to also be applied to any test data.\n",
    "label_encoder = LabelEncoder()\n",
    "\n",
    "# fit the label encoder with the unique set of sentiments in the training data.\n",
    "label_encoder.fit(training_data.sentiment.unique())"
   ]
  },
  {
   "cell_type": "code",
   "execution_count": 84,
   "metadata": {},
   "outputs": [
    {
     "data": {
      "text/plain": [
       "['anger',\n",
       " 'boredom',\n",
       " 'empty',\n",
       " 'enthusiasm',\n",
       " 'fun',\n",
       " 'happiness',\n",
       " 'hate',\n",
       " 'love',\n",
       " 'neutral',\n",
       " 'relief',\n",
       " 'sadness',\n",
       " 'surprise',\n",
       " 'worry']"
      ]
     },
     "execution_count": 84,
     "metadata": {},
     "output_type": "execute_result"
    }
   ],
   "source": [
    "# print out what classes were discovered\n",
    "list(label_encoder.classes_)"
   ]
  },
  {
   "cell_type": "code",
   "execution_count": 85,
   "metadata": {
    "collapsed": true
   },
   "outputs": [],
   "source": [
    "# planning ahead, create a function to create features in a data set that we will have to create in \n",
    "# both the training and testing data\n",
    "def make_features(df, sentiment_num_encoder):\n",
    "    training_data['sentiment_num'] = training_data.sentiment.apply(lambda x: label_encoder.transform([x])[0])"
   ]
  },
  {
   "cell_type": "code",
   "execution_count": 86,
   "metadata": {},
   "outputs": [
    {
     "data": {
      "text/html": [
       "<div>\n",
       "<style>\n",
       "    .dataframe thead tr:only-child th {\n",
       "        text-align: right;\n",
       "    }\n",
       "\n",
       "    .dataframe thead th {\n",
       "        text-align: left;\n",
       "    }\n",
       "\n",
       "    .dataframe tbody tr th {\n",
       "        vertical-align: top;\n",
       "    }\n",
       "</style>\n",
       "<table border=\"1\" class=\"dataframe\">\n",
       "  <thead>\n",
       "    <tr style=\"text-align: right;\">\n",
       "      <th></th>\n",
       "      <th>sentiment</th>\n",
       "      <th>content</th>\n",
       "      <th>sentiment_num</th>\n",
       "    </tr>\n",
       "  </thead>\n",
       "  <tbody>\n",
       "    <tr>\n",
       "      <th>0</th>\n",
       "      <td>empty</td>\n",
       "      <td>@tiffanylue i know  i was listenin to bad habit earlier and i started freakin at his part =[</td>\n",
       "      <td>2</td>\n",
       "    </tr>\n",
       "    <tr>\n",
       "      <th>1000</th>\n",
       "      <td>worry</td>\n",
       "      <td>@Sageey My public talk in July got canceled and I don't know why.</td>\n",
       "      <td>12</td>\n",
       "    </tr>\n",
       "    <tr>\n",
       "      <th>2000</th>\n",
       "      <td>sadness</td>\n",
       "      <td>Epic ocd moment? I deleted my sims file that i spent hours building just because i set his favorite food wrong</td>\n",
       "      <td>10</td>\n",
       "    </tr>\n",
       "    <tr>\n",
       "      <th>3000</th>\n",
       "      <td>worry</td>\n",
       "      <td>[BBC] Malaria parasites becoming resistant to drugs  http://trunc.it/9yn5 ~ this is really not good as Malaria affects so many people</td>\n",
       "      <td>12</td>\n",
       "    </tr>\n",
       "    <tr>\n",
       "      <th>4000</th>\n",
       "      <td>neutral</td>\n",
       "      <td>my to do list is bananas, before i leave for Europe BOOOO</td>\n",
       "      <td>8</td>\n",
       "    </tr>\n",
       "    <tr>\n",
       "      <th>5000</th>\n",
       "      <td>sadness</td>\n",
       "      <td>darn it. I did it again.!  keep forgetting that darn &amp;quot;D&amp;quot; for DM's.....</td>\n",
       "      <td>10</td>\n",
       "    </tr>\n",
       "    <tr>\n",
       "      <th>6000</th>\n",
       "      <td>neutral</td>\n",
       "      <td>@chelsea_playboy R.I.P curls</td>\n",
       "      <td>8</td>\n",
       "    </tr>\n",
       "    <tr>\n",
       "      <th>7000</th>\n",
       "      <td>neutral</td>\n",
       "      <td>@Jeanise  I was going to say let's go to lunch...</td>\n",
       "      <td>8</td>\n",
       "    </tr>\n",
       "    <tr>\n",
       "      <th>8000</th>\n",
       "      <td>sadness</td>\n",
       "      <td>argh! why why why</td>\n",
       "      <td>10</td>\n",
       "    </tr>\n",
       "    <tr>\n",
       "      <th>9000</th>\n",
       "      <td>worry</td>\n",
       "      <td>@vronmcintyre I want an espresso machine</td>\n",
       "      <td>12</td>\n",
       "    </tr>\n",
       "    <tr>\n",
       "      <th>10000</th>\n",
       "      <td>love</td>\n",
       "      <td>@Crazy_Cindy  BIG HUGGS</td>\n",
       "      <td>7</td>\n",
       "    </tr>\n",
       "    <tr>\n",
       "      <th>11000</th>\n",
       "      <td>worry</td>\n",
       "      <td>is wondering y Mother Nature is making my life miserable</td>\n",
       "      <td>12</td>\n",
       "    </tr>\n",
       "    <tr>\n",
       "      <th>12000</th>\n",
       "      <td>happiness</td>\n",
       "      <td>Just got my paycheck... April bonus can b deposited 2day the rest, gotta wait til Mon.</td>\n",
       "      <td>5</td>\n",
       "    </tr>\n",
       "    <tr>\n",
       "      <th>13000</th>\n",
       "      <td>worry</td>\n",
       "      <td>I don't feel good.  .My throat hurts!!!!</td>\n",
       "      <td>12</td>\n",
       "    </tr>\n",
       "    <tr>\n",
       "      <th>14000</th>\n",
       "      <td>neutral</td>\n",
       "      <td>@QuindaS  your right.... How was your trip</td>\n",
       "      <td>8</td>\n",
       "    </tr>\n",
       "    <tr>\n",
       "      <th>15000</th>\n",
       "      <td>surprise</td>\n",
       "      <td>@RealJessicaAlba Is it true there won't be any Fantastic 4 sequels?  I wished they introduced a Franklin Richards character... will they?</td>\n",
       "      <td>11</td>\n",
       "    </tr>\n",
       "    <tr>\n",
       "      <th>16000</th>\n",
       "      <td>hate</td>\n",
       "      <td>I hate waiting in lines</td>\n",
       "      <td>6</td>\n",
       "    </tr>\n",
       "    <tr>\n",
       "      <th>17000</th>\n",
       "      <td>worry</td>\n",
       "      <td>@dunnybrasco Im home, phone died thou</td>\n",
       "      <td>12</td>\n",
       "    </tr>\n",
       "    <tr>\n",
       "      <th>18000</th>\n",
       "      <td>worry</td>\n",
       "      <td>is gonna be mad hungry when I get home. Forgot my money...</td>\n",
       "      <td>12</td>\n",
       "    </tr>\n",
       "    <tr>\n",
       "      <th>19000</th>\n",
       "      <td>sadness</td>\n",
       "      <td>really tired. and have to work the whole day tomorrow, the thought of it depresses me.  uncoooool....</td>\n",
       "      <td>10</td>\n",
       "    </tr>\n",
       "    <tr>\n",
       "      <th>20000</th>\n",
       "      <td>empty</td>\n",
       "      <td>Thanks for pointing out the crucial problems @thakkar. Both of them have been taken care of  (cc: @Netra)</td>\n",
       "      <td>2</td>\n",
       "    </tr>\n",
       "    <tr>\n",
       "      <th>21000</th>\n",
       "      <td>neutral</td>\n",
       "      <td>@KatieAlender ooh which two books did you buy?</td>\n",
       "      <td>8</td>\n",
       "    </tr>\n",
       "    <tr>\n",
       "      <th>22000</th>\n",
       "      <td>empty</td>\n",
       "      <td>@greyeyesgabriel You are clearly very busy  Take care of yourself, and I am sure you will be fine; takes one to know one ;)</td>\n",
       "      <td>2</td>\n",
       "    </tr>\n",
       "    <tr>\n",
       "      <th>23000</th>\n",
       "      <td>relief</td>\n",
       "      <td>is back in fine old melbourne town....</td>\n",
       "      <td>9</td>\n",
       "    </tr>\n",
       "    <tr>\n",
       "      <th>24000</th>\n",
       "      <td>hate</td>\n",
       "      <td>@girltrumpet yeahh  idk if i like owen anymore though... i kinda lost respect for him in an episode i recorded...</td>\n",
       "      <td>6</td>\n",
       "    </tr>\n",
       "    <tr>\n",
       "      <th>25000</th>\n",
       "      <td>fun</td>\n",
       "      <td>'Look at the tadpole'... 'No! ... Look at me!!!' ... Foolish dog  http://yfrog.com/05ixbj</td>\n",
       "      <td>4</td>\n",
       "    </tr>\n",
       "    <tr>\n",
       "      <th>26000</th>\n",
       "      <td>surprise</td>\n",
       "      <td>@azkikah the idiom?? doesn't ring a bell eh? hahaha. y'are really thinking of food?! nope. actually in the bathroom. teehee</td>\n",
       "      <td>11</td>\n",
       "    </tr>\n",
       "    <tr>\n",
       "      <th>27000</th>\n",
       "      <td>empty</td>\n",
       "      <td>@sugarrae i thought you would win!  Fabulously40 have some bots on her side?</td>\n",
       "      <td>2</td>\n",
       "    </tr>\n",
       "    <tr>\n",
       "      <th>28000</th>\n",
       "      <td>worry</td>\n",
       "      <td>@AnnebrittB slaying dragons &amp;amp; rescue innocents, this could be a good life movie   Make sure to take a camara and film!!!!</td>\n",
       "      <td>12</td>\n",
       "    </tr>\n",
       "    <tr>\n",
       "      <th>29000</th>\n",
       "      <td>neutral</td>\n",
       "      <td>@jareason left a comment on your blog post</td>\n",
       "      <td>8</td>\n",
       "    </tr>\n",
       "  </tbody>\n",
       "</table>\n",
       "</div>"
      ],
      "text/plain": [
       "       sentiment  \\\n",
       "0          empty   \n",
       "1000       worry   \n",
       "2000     sadness   \n",
       "3000       worry   \n",
       "4000     neutral   \n",
       "5000     sadness   \n",
       "6000     neutral   \n",
       "7000     neutral   \n",
       "8000     sadness   \n",
       "9000       worry   \n",
       "10000       love   \n",
       "11000      worry   \n",
       "12000  happiness   \n",
       "13000      worry   \n",
       "14000    neutral   \n",
       "15000   surprise   \n",
       "16000       hate   \n",
       "17000      worry   \n",
       "18000      worry   \n",
       "19000    sadness   \n",
       "20000      empty   \n",
       "21000    neutral   \n",
       "22000      empty   \n",
       "23000     relief   \n",
       "24000       hate   \n",
       "25000        fun   \n",
       "26000   surprise   \n",
       "27000      empty   \n",
       "28000      worry   \n",
       "29000    neutral   \n",
       "\n",
       "                                                                                                                                         content  \\\n",
       "0                                                   @tiffanylue i know  i was listenin to bad habit earlier and i started freakin at his part =[   \n",
       "1000                                                                           @Sageey My public talk in July got canceled and I don't know why.   \n",
       "2000                              Epic ocd moment? I deleted my sims file that i spent hours building just because i set his favorite food wrong   \n",
       "3000       [BBC] Malaria parasites becoming resistant to drugs  http://trunc.it/9yn5 ~ this is really not good as Malaria affects so many people   \n",
       "4000                                                                                   my to do list is bananas, before i leave for Europe BOOOO   \n",
       "5000                                                            darn it. I did it again.!  keep forgetting that darn &quot;D&quot; for DM's.....   \n",
       "6000                                                                                                                @chelsea_playboy R.I.P curls   \n",
       "7000                                                                                           @Jeanise  I was going to say let's go to lunch...   \n",
       "8000                                                                                                                           argh! why why why   \n",
       "9000                                                                                                    @vronmcintyre I want an espresso machine   \n",
       "10000                                                                                                                    @Crazy_Cindy  BIG HUGGS   \n",
       "11000                                                                                   is wondering y Mother Nature is making my life miserable   \n",
       "12000                                                     Just got my paycheck... April bonus can b deposited 2day the rest, gotta wait til Mon.   \n",
       "13000                                                                                                   I don't feel good.  .My throat hurts!!!!   \n",
       "14000                                                                                                 @QuindaS  your right.... How was your trip   \n",
       "15000  @RealJessicaAlba Is it true there won't be any Fantastic 4 sequels?  I wished they introduced a Franklin Richards character... will they?   \n",
       "16000                                                                                                                    I hate waiting in lines   \n",
       "17000                                                                                                      @dunnybrasco Im home, phone died thou   \n",
       "18000                                                                                 is gonna be mad hungry when I get home. Forgot my money...   \n",
       "19000                                      really tired. and have to work the whole day tomorrow, the thought of it depresses me.  uncoooool....   \n",
       "20000                                  Thanks for pointing out the crucial problems @thakkar. Both of them have been taken care of  (cc: @Netra)   \n",
       "21000                                                                                             @KatieAlender ooh which two books did you buy?   \n",
       "22000                @greyeyesgabriel You are clearly very busy  Take care of yourself, and I am sure you will be fine; takes one to know one ;)   \n",
       "23000                                                                                                     is back in fine old melbourne town....   \n",
       "24000                          @girltrumpet yeahh  idk if i like owen anymore though... i kinda lost respect for him in an episode i recorded...   \n",
       "25000                                                  'Look at the tadpole'... 'No! ... Look at me!!!' ... Foolish dog  http://yfrog.com/05ixbj   \n",
       "26000                @azkikah the idiom?? doesn't ring a bell eh? hahaha. y'are really thinking of food?! nope. actually in the bathroom. teehee   \n",
       "27000                                                               @sugarrae i thought you would win!  Fabulously40 have some bots on her side?   \n",
       "28000              @AnnebrittB slaying dragons &amp; rescue innocents, this could be a good life movie   Make sure to take a camara and film!!!!   \n",
       "29000                                                                                                 @jareason left a comment on your blog post   \n",
       "\n",
       "       sentiment_num  \n",
       "0                  2  \n",
       "1000              12  \n",
       "2000              10  \n",
       "3000              12  \n",
       "4000               8  \n",
       "5000              10  \n",
       "6000               8  \n",
       "7000               8  \n",
       "8000              10  \n",
       "9000              12  \n",
       "10000              7  \n",
       "11000             12  \n",
       "12000              5  \n",
       "13000             12  \n",
       "14000              8  \n",
       "15000             11  \n",
       "16000              6  \n",
       "17000             12  \n",
       "18000             12  \n",
       "19000             10  \n",
       "20000              2  \n",
       "21000              8  \n",
       "22000              2  \n",
       "23000              9  \n",
       "24000              6  \n",
       "25000              4  \n",
       "26000             11  \n",
       "27000              2  \n",
       "28000             12  \n",
       "29000              8  "
      ]
     },
     "execution_count": 86,
     "metadata": {},
     "output_type": "execute_result"
    }
   ],
   "source": [
    "make_features(training_data, sentiment_num_encoder=label_encoder)\n",
    "training_data[::1000]"
   ]
  },
  {
   "cell_type": "markdown",
   "metadata": {},
   "source": [
    "## Base Line DataFrame\n",
    "\n",
    "The dataset is now minimally ready to investigate further.\n",
    "\n",
    "The next steps are Data Preprocessing to cleanse the data, and Feature Engineering"
   ]
  },
  {
   "cell_type": "markdown",
   "metadata": {},
   "source": [
    "### Data Preprocessing\n",
    "\n",
    "Look at the data and see if we can/should clean the content before we attempt to engineer features and\n",
    "\n",
    "create tokens.\n",
    "\n",
    "For example, there is a very good chance that user names like '@Crazy_Cindy' has no relationship to emotion and is likely a good candidate to remove from the content before vectorization.\n",
    "\n",
    "To verify this - we will create a baseline and compare against the base.  For the baseline a generic CountVectorizer will be used with a MultinomialNB model.\n"
   ]
  },
  {
   "cell_type": "code",
   "execution_count": 87,
   "metadata": {
    "collapsed": true
   },
   "outputs": [],
   "source": [
    "# baseline pipeline.\n",
    "baseline_pipeline = make_pipeline(CountVectorizer(), MultinomialNB())"
   ]
  },
  {
   "cell_type": "code",
   "execution_count": 88,
   "metadata": {
    "collapsed": true
   },
   "outputs": [],
   "source": [
    "# Define the X and y variables\n",
    "X = training_data.content\n",
    "y = training_data.sentiment_num"
   ]
  },
  {
   "cell_type": "code",
   "execution_count": 89,
   "metadata": {},
   "outputs": [
    {
     "name": "stdout",
     "output_type": "stream",
     "text": [
      "0.285673524552\n"
     ]
    }
   ],
   "source": [
    "# cross-validate the entire pipeline\n",
    "baseline_accuracy = cross_val_score(baseline_pipeline, X, y, cv=5, scoring='accuracy').mean()\n",
    "print(baseline_accuracy)"
   ]
  },
  {
   "cell_type": "code",
   "execution_count": 90,
   "metadata": {},
   "outputs": [
    {
     "name": "stdout",
     "output_type": "stream",
     "text": [
      "38892\n"
     ]
    }
   ],
   "source": [
    "# look at the baseline number of features\n",
    "vect = CountVectorizer()\n",
    "vect.fit(X)\n",
    "baseline_number_of_features = len(vect.get_feature_names())\n",
    "print(baseline_number_of_features)"
   ]
  },
  {
   "cell_type": "markdown",
   "metadata": {},
   "source": [
    "### Preprocessing Transformers.\n",
    "\n",
    "This section will contain a number of transformers that will be applied as part of a preprocessing pipeline.  Each custom transformer inherits from TransformerMixin."
   ]
  },
  {
   "cell_type": "code",
   "execution_count": 91,
   "metadata": {
    "collapsed": true
   },
   "outputs": [],
   "source": [
    "def test_transformer(transformer, data):\n",
    "    \"\"\"\n",
    "    Assumes:\n",
    "    1) training_data variable is available\n",
    "    2) baseline_pipeline variable is available\n",
    "    3) baseline_number_of_features variable is available\n",
    "    4) baseline_accuracy variable is available\n",
    "    \"\"\"\n",
    "    new_content = transformer.transform(data)\n",
    "    # Define new X and y variables\n",
    "    X = new_content\n",
    "    y = training_data.sentiment_num\n",
    "    # cross-validate the entire pipeline\n",
    "    cv_score = cross_val_score(baseline_pipeline, X, y, cv=5, scoring='accuracy').mean()\n",
    "    vect = CountVectorizer()\n",
    "    vect.fit(X)\n",
    "    num_feats = len(vect.get_feature_names())\n",
    "    diff = num_feats - baseline_number_of_features\n",
    "    accuracy_diff = cv_score - baseline_accuracy\n",
    "    print(\"Accuracy: {0} Accuracy Diff: {1}\\nTransformed: {2} Baseline: {3} Feature Diff: {4}\".format(cv_score, accuracy_diff, num_feats, baseline_number_of_features, diff))\n"
   ]
  },
  {
   "cell_type": "markdown",
   "metadata": {},
   "source": [
    "> #### A transformer to remove username "
   ]
  },
  {
   "cell_type": "code",
   "execution_count": 92,
   "metadata": {
    "collapsed": true
   },
   "outputs": [],
   "source": [
    "class RemoveUsernameTransformer(TransformerMixin):\n",
    "\n",
    "    @staticmethod\n",
    "    def _preprocess_data(data_series):\n",
    "        \"\"\"\n",
    "        inspired from:\n",
    "        https://raw.githubusercontent.com/youngsoul/ml-twitter-sentiment-analysis/develop/cleanup.py\n",
    "        :param data_series:\n",
    "        :return:\n",
    "        \"\"\"\n",
    "\n",
    "        # remove user name\n",
    "        regex = re.compile(r\"@[^\\s]+[\\s]?\")\n",
    "        data_series.replace(regex, \"\", inplace=True)\n",
    "\n",
    "    def fit(self, X, y=None):\n",
    "        return self\n",
    "\n",
    "    def transform(self, X):\n",
    "        \"\"\"\n",
    "\n",
    "        :param X: Series, aka column of data.\n",
    "        :return:\n",
    "        \"\"\"\n",
    "        RemoveUsernameTransformer._preprocess_data(X)\n",
    "        return X\n"
   ]
  },
  {
   "cell_type": "code",
   "execution_count": 93,
   "metadata": {},
   "outputs": [
    {
     "name": "stdout",
     "output_type": "stream",
     "text": [
      "Accuracy: 0.2907763836290118 Accuracy Diff: 0.005102859076697719\n",
      "Transformed: 26729 Baseline: 38892 Feature Diff: -12163\n"
     ]
    }
   ],
   "source": [
    "# Remove the user name, save the series in a new series and see if it helped the model\n",
    "ru = RemoveUsernameTransformer()\n",
    "test_transformer(ru, training_data.content.copy())\n"
   ]
  },
  {
   "cell_type": "markdown",
   "metadata": {},
   "source": [
    "> Since the accuracy is a slight improvement, 0.285 vs 0.290, we will keep the remove username transform."
   ]
  },
  {
   "cell_type": "markdown",
   "metadata": {},
   "source": [
    "> Remove ellipse transformer"
   ]
  },
  {
   "cell_type": "code",
   "execution_count": 94,
   "metadata": {
    "collapsed": true
   },
   "outputs": [],
   "source": [
    "class RemoveEllipseTransformer(TransformerMixin):\n",
    "\n",
    "    @staticmethod\n",
    "    def _preprocess_data(data_series):\n",
    "        \"\"\"\n",
    "        inspired from:\n",
    "        https://raw.githubusercontent.com/youngsoul/ml-twitter-sentiment-analysis/develop/cleanup.py\n",
    "        :param data_series:\n",
    "        :return:\n",
    "        \"\"\"\n",
    "        # remove ..., ...., ..... with space\n",
    "        for remove in map(lambda r: re.compile(r), [\"\\.\\.\\.\\.\\.\", \"\\.\\.\\.\\.\", \"\\.\\.\\.\"]):\n",
    "            data_series.replace(remove, \" \", inplace=True)\n",
    "\n",
    "    def fit(self, X, y=None):\n",
    "        return self\n",
    "\n",
    "    def transform(self, X):\n",
    "        \"\"\"\n",
    "\n",
    "        :param X: Series, aka column of data.\n",
    "        :return:\n",
    "        \"\"\"\n",
    "        RemoveEllipseTransformer._preprocess_data(X)\n",
    "        return X\n"
   ]
  },
  {
   "cell_type": "code",
   "execution_count": 95,
   "metadata": {},
   "outputs": [
    {
     "name": "stdout",
     "output_type": "stream",
     "text": [
      "Accuracy: 0.2856735245523141 Accuracy Diff: 0.0\n",
      "Transformed: 38892 Baseline: 38892 Feature Diff: 0\n"
     ]
    }
   ],
   "source": [
    "# Remove the ellipse, save the series in a new series and see if it helped the model\n",
    "ru = RemoveEllipseTransformer()\n",
    "test_transformer(ru, training_data.content.copy())\n"
   ]
  },
  {
   "cell_type": "markdown",
   "metadata": {},
   "source": [
    "> Since there is no improvement, and the feature count is the same,  It is assumed that CountVectorizer must be removing them as well.  So we will not use this transformer"
   ]
  },
  {
   "cell_type": "code",
   "execution_count": 96,
   "metadata": {
    "collapsed": true
   },
   "outputs": [],
   "source": [
    "class RemoveNumbersTransformer(TransformerMixin):\n",
    "\n",
    "    @staticmethod\n",
    "    def _preprocess_data(data_series):\n",
    "        \"\"\"\n",
    "        inspired from:\n",
    "        https://raw.githubusercontent.com/youngsoul/ml-twitter-sentiment-analysis/develop/cleanup.py\n",
    "        :param data_series:\n",
    "        :return:\n",
    "        \"\"\"\n",
    "\n",
    "        # remove numbers\n",
    "        regex = re.compile(r\"\\s?[0-9]+\\.?[0-9]*\")\n",
    "        data_series.replace(regex, \"\", inplace=True)\n",
    "\n",
    "    def fit(self, X, y=None):\n",
    "        return self\n",
    "\n",
    "    def transform(self, X):\n",
    "        \"\"\"\n",
    "\n",
    "        :param X: Series, aka column of data.\n",
    "        :return:\n",
    "        \"\"\"\n",
    "        RemoveNumbersTransformer._preprocess_data(X)\n",
    "        return X\n"
   ]
  },
  {
   "cell_type": "code",
   "execution_count": 97,
   "metadata": {},
   "outputs": [
    {
     "name": "stdout",
     "output_type": "stream",
     "text": [
      "Accuracy: 0.2862739473545161 Accuracy Diff: 0.0006004228022020164\n",
      "Transformed: 37954 Baseline: 38892 Feature Diff: -938\n"
     ]
    }
   ],
   "source": [
    "# Remove the user name, save the series in a new series and see if it helped the model\n",
    "rt = RemoveNumbersTransformer()\n",
    "test_transformer(rt, training_data.content.copy())"
   ]
  },
  {
   "cell_type": "markdown",
   "metadata": {},
   "source": [
    "> Slight improvement, keep RemoveNumbersTransformer"
   ]
  },
  {
   "cell_type": "code",
   "execution_count": 98,
   "metadata": {
    "collapsed": true
   },
   "outputs": [],
   "source": [
    "class RemoveSpecialCharactersTransformer(TransformerMixin):\n",
    "\n",
    "    @staticmethod\n",
    "    def _preprocess_data(data_series):\n",
    "        \"\"\"\n",
    "        inspired from:\n",
    "        https://raw.githubusercontent.com/youngsoul/ml-twitter-sentiment-analysis/develop/cleanup.py\n",
    "        :param data_series:\n",
    "        :return:\n",
    "        \"\"\"\n",
    "\n",
    "        # remove special characters\n",
    "        for remove in map(lambda r: re.compile(re.escape(r)), [\",\", \":\", \"\\\"\", \"=\", \"&\", \";\", \"%\", \"$\",\n",
    "                                                               \"@\", \"%\", \"^\", \"*\", \"(\", \")\", \"{\", \"}\",\n",
    "                                                               \"[\", \"]\", \"|\", \"/\", \"\\\\\", \">\", \"<\", \"-\",\n",
    "                                                               \"!\", \"?\", \".\", \"'\",\n",
    "                                                               \"--\", \"---\", \"#\"]):\n",
    "            data_series.replace(remove, \"\", inplace=True)\n",
    "\n",
    "    def fit(self, X, y=None):\n",
    "        return self\n",
    "\n",
    "    def transform(self, X):\n",
    "        \"\"\"\n",
    "\n",
    "        :param X: Series, aka column of data.\n",
    "        :return:\n",
    "        \"\"\"\n",
    "        RemoveSpecialCharactersTransformer._preprocess_data(X)\n",
    "        return X\n"
   ]
  },
  {
   "cell_type": "code",
   "execution_count": 99,
   "metadata": {},
   "outputs": [
    {
     "name": "stdout",
     "output_type": "stream",
     "text": [
      "Accuracy: 0.2804398102040787 Accuracy Diff: -0.005233714348235385\n",
      "Transformed: 43034 Baseline: 38892 Feature Diff: 4142\n"
     ]
    }
   ],
   "source": [
    "rt = RemoveSpecialCharactersTransformer()\n",
    "test_transformer(rt, training_data.content.copy())"
   ]
  },
  {
   "cell_type": "markdown",
   "metadata": {},
   "source": [
    "> This transformer resulted in slightly worse performance, so we will not use it."
   ]
  },
  {
   "cell_type": "code",
   "execution_count": 100,
   "metadata": {
    "collapsed": true
   },
   "outputs": [],
   "source": [
    "class RemoveHtmlEncodedTransformer(TransformerMixin):\n",
    "\n",
    "    @staticmethod\n",
    "    def _preprocess_data(data_series):\n",
    "        \"\"\"\n",
    "        inspired from:\n",
    "        https://raw.githubusercontent.com/youngsoul/ml-twitter-sentiment-analysis/develop/cleanup.py\n",
    "        :param data_series:\n",
    "        :return:\n",
    "        \"\"\"\n",
    "\n",
    "        # html encoded characters\n",
    "        for remove in map(lambda r: re.compile(r), [\"&lt;\", \"&gt;\", \"&quot;\", \"&amp;\", \"w/o\", \"w/\"]):\n",
    "            data_series.replace(remove, \"\", inplace=True)\n",
    "\n",
    "    def fit(self, X, y=None):\n",
    "        return self\n",
    "\n",
    "    def transform(self, X):\n",
    "        \"\"\"\n",
    "\n",
    "        :param X: Series, aka column of data.\n",
    "        :return:\n",
    "        \"\"\"\n",
    "        RemoveHtmlEncodedTransformer._preprocess_data(X)\n",
    "        return X\n"
   ]
  },
  {
   "cell_type": "code",
   "execution_count": 101,
   "metadata": {},
   "outputs": [
    {
     "name": "stdout",
     "output_type": "stream",
     "text": [
      "Accuracy: 0.2854400243132305 Accuracy Diff: -0.00023350023908358386\n",
      "Transformed: 38954 Baseline: 38892 Feature Diff: 62\n"
     ]
    }
   ],
   "source": [
    "rt = RemoveHtmlEncodedTransformer()\n",
    "test_transformer(rt, training_data.content.copy())"
   ]
  },
  {
   "cell_type": "markdown",
   "metadata": {},
   "source": [
    "> Slighty worse performance so we will not use it"
   ]
  },
  {
   "cell_type": "code",
   "execution_count": 102,
   "metadata": {
    "collapsed": true
   },
   "outputs": [],
   "source": [
    "class RemoveUrlsTransformer(TransformerMixin):\n",
    "\n",
    "    @staticmethod\n",
    "    def _preprocess_data(data_series):\n",
    "        \"\"\"\n",
    "        inspired from:\n",
    "        https://raw.githubusercontent.com/youngsoul/ml-twitter-sentiment-analysis/develop/cleanup.py\n",
    "        :param data_series:\n",
    "        :return:\n",
    "        \"\"\"\n",
    "\n",
    "        # remove urls\n",
    "        regex = re.compile(r\"http.?://[^\\s]+[\\s]?\")\n",
    "        data_series.replace(regex, \"\", inplace=True)\n",
    "\n",
    "    def fit(self, X, y=None):\n",
    "        return self\n",
    "\n",
    "    def transform(self, X):\n",
    "        \"\"\"\n",
    "\n",
    "        :param X: Series, aka column of data.\n",
    "        :return:\n",
    "        \"\"\"\n",
    "        RemoveUrlsTransformer._preprocess_data(X)\n",
    "        return X\n"
   ]
  },
  {
   "cell_type": "code",
   "execution_count": 103,
   "metadata": {},
   "outputs": [
    {
     "name": "stdout",
     "output_type": "stream",
     "text": [
      "Accuracy: 0.28373921215917475 Accuracy Diff: -0.001934312393139348\n",
      "Transformed: 37666 Baseline: 38892 Feature Diff: -1226\n"
     ]
    }
   ],
   "source": [
    "rt = RemoveUrlsTransformer()\n",
    "test_transformer(rt, training_data.content.copy())"
   ]
  },
  {
   "cell_type": "markdown",
   "metadata": {},
   "source": [
    "> Slightly worse so we will not use it.\n",
    "\n",
    "The only Transformers we will use are:\n",
    "> RemoveNumbersTransformer, RemoveUsernameTransformer"
   ]
  },
  {
   "cell_type": "code",
   "execution_count": 104,
   "metadata": {},
   "outputs": [
    {
     "name": "stdout",
     "output_type": "stream",
     "text": [
      "Accuracy: 0.29211011817381577 Accuracy Diff: 0.006436593621501674\n",
      "Transformed: 26085 Baseline: 38892 Feature Diff: -12807\n"
     ]
    }
   ],
   "source": [
    "# Create a pipeline with the transformers we are keeping, and see the overall improvement.\n",
    "preprocessor_pipeline = make_pipeline(RemoveNumbersTransformer(), RemoveUsernameTransformer())\n",
    "test_transformer(preprocessor_pipeline, training_data.content.copy())"
   ]
  },
  {
   "cell_type": "markdown",
   "metadata": {},
   "source": [
    "## Add Stemming to CountVectorizer to see if this helps\n",
    "\n",
    "Stemming can be added via NLTK or the stemming python package."
   ]
  },
  {
   "cell_type": "code",
   "execution_count": 105,
   "metadata": {
    "collapsed": true
   },
   "outputs": [],
   "source": [
    "# https://github.com/AishwaryaRK/scikit-learn/commit/cb8afbc11fbe34c1378665040b605fb16784f77c\n",
    "class StemmedCountVectorizer(CountVectorizer):\n",
    "    \n",
    "    def __init__(self, stemmer=None, input='content', encoding='utf-8',\n",
    "                 decode_error='strict', strip_accents=None,\n",
    "                 lowercase=True, preprocessor=None, tokenizer=None,\n",
    "                 stop_words=None, token_pattern=r\"(?u)\\b\\w\\w+\\b\",\n",
    "                 ngram_range=(1, 1), analyzer='word',\n",
    "                 max_df=1.0, min_df=1, max_features=None,\n",
    "                 vocabulary=None, binary=False, dtype=np.int64):\n",
    "        super(StemmedCountVectorizer, self).__init__(\n",
    "            input=input, encoding=encoding, decode_error=decode_error,\n",
    "            strip_accents=strip_accents, lowercase=lowercase,\n",
    "            preprocessor=preprocessor, tokenizer=tokenizer, analyzer=analyzer,\n",
    "            stop_words=stop_words, token_pattern=token_pattern,\n",
    "            ngram_range=ngram_range, max_df=max_df, min_df=min_df,\n",
    "            max_features=max_features, vocabulary=vocabulary, binary=binary,\n",
    "            dtype=dtype)        \n",
    "        self.stemmer = stemmer\n",
    "            \n",
    "    def build_analyzer(self):\n",
    "        analyzer = super(StemmedCountVectorizer, self).build_analyzer()\n",
    "        if self.stemmer == None:\n",
    "            return analyzer\n",
    "        \n",
    "        return lambda doc: ([self.stemmer.stem(w) for w in analyzer(doc)])\n",
    "    "
   ]
  },
  {
   "cell_type": "code",
   "execution_count": 106,
   "metadata": {},
   "outputs": [
    {
     "name": "stdout",
     "output_type": "stream",
     "text": [
      "0.286609620222\n"
     ]
    }
   ],
   "source": [
    "stemmer = nltk.stem.SnowballStemmer('english')\n",
    "stemmed_count_vectorizer = StemmedCountVectorizer(stemmer=stemmer)\n",
    "\n",
    "# baseline pipeline.\n",
    "stem_pipeline = make_pipeline(stemmed_count_vectorizer, MultinomialNB())\n",
    "# Define the X and y variables\n",
    "X = training_data.content\n",
    "y = training_data.sentiment_num\n",
    "# cross-validate the entire pipeline\n",
    "baseline_accuracy = cross_val_score(stem_pipeline, X, y, cv=5, scoring='accuracy').mean()\n",
    "print(baseline_accuracy)"
   ]
  },
  {
   "cell_type": "markdown",
   "metadata": {},
   "source": [
    "Putting the preprocessing pipeline and the Stemmed CountVectorizer into a single pipeline"
   ]
  },
  {
   "cell_type": "code",
   "execution_count": 107,
   "metadata": {},
   "outputs": [
    {
     "name": "stdout",
     "output_type": "stream",
     "text": [
      "0.296544703778\n"
     ]
    }
   ],
   "source": [
    "# Create a pipeline with the transformers we are keeping, and see the overall improvement.\n",
    "# re-establish X and y\n",
    "X = training_data.content\n",
    "y = training_data.sentiment_num\n",
    "\n",
    "# create a pipeline of all of the steps we are currently keeping\n",
    "preprocessor_stem_pipeline = make_pipeline(RemoveNumbersTransformer(), RemoveUsernameTransformer(), StemmedCountVectorizer(stemmer=stemmer), MultinomialNB())\n",
    "\n",
    "# use cross validation on the pipeline to measure the accuracy.  Recall - we are using default parameters\n",
    "# for CountVectorizor and NB.\n",
    "preprocessor_stem_accuracy = cross_val_score(preprocessor_stem_pipeline, X, y, cv=5, scoring='accuracy').mean()\n",
    "print(preprocessor_stem_accuracy)"
   ]
  },
  {
   "cell_type": "code",
   "execution_count": 108,
   "metadata": {},
   "outputs": [
    {
     "name": "stdout",
     "output_type": "stream",
     "text": [
      "Base Accuracy: 0.2866096202222253 PreProcess Stem Accuracy: 0.29654470377779213 Diff: 0.009935083555566826\n"
     ]
    }
   ],
   "source": [
    "print(\"Base Accuracy: {0} PreProcess Stem Accuracy: {1} Diff: {2}\".format(baseline_accuracy, preprocessor_stem_accuracy, (preprocessor_stem_accuracy - baseline_accuracy)))"
   ]
  },
  {
   "cell_type": "markdown",
   "metadata": {},
   "source": [
    "## Tune CountVectorizer\n",
    "\n",
    "Look at the different parameters for CountVectorizer and see if tuning those parameters help.  Also potentially look into TFIDF Vectorizer\n",
    "\n",
    "First, run the preprocessor_pipeline on the entire training data set.\n",
    "\n",
    "Second, create a model pipeline that will run through the CountVectorizer and the MultinomialNB model.\n"
   ]
  },
  {
   "cell_type": "code",
   "execution_count": 109,
   "metadata": {
    "collapsed": true
   },
   "outputs": [],
   "source": [
    "\n",
    "preprocessed_training_data = preprocessor_pipeline.transform(training_data)\n",
    "# Define new X and y variables\n",
    "X = preprocessed_training_data\n",
    "y = training_data.sentiment_num"
   ]
  },
  {
   "cell_type": "code",
   "execution_count": 110,
   "metadata": {},
   "outputs": [
    {
     "data": {
      "text/plain": [
       "dict_keys(['stemmedcountvectorizer', 'multinomialnb'])"
      ]
     },
     "execution_count": 110,
     "metadata": {},
     "output_type": "execute_result"
    }
   ],
   "source": [
    "# pipeline steps are automatically assigned names by make_pipeline\n",
    "stem_pipeline.named_steps.keys()"
   ]
  },
  {
   "cell_type": "code",
   "execution_count": 111,
   "metadata": {},
   "outputs": [
    {
     "data": {
      "text/plain": [
       "{'multinomialnb__alpha': [0.5, 1],\n",
       " 'stemmedcountvectorizer__max_df': [0.6, 0.8],\n",
       " 'stemmedcountvectorizer__min_df': [2, 3, 4, 5],\n",
       " 'stemmedcountvectorizer__ngram_range': [(1, 1), (1, 2), (1, 3), (1, 4)],\n",
       " 'stemmedcountvectorizer__stop_words': ['english']}"
      ]
     },
     "execution_count": 111,
     "metadata": {},
     "output_type": "execute_result"
    }
   ],
   "source": [
    "# create a grid of parameters to search (and specify the pipeline step along with the parameter)\n",
    "param_grid = {}\n",
    "param_grid['stemmedcountvectorizer__min_df'] = [2,3,4,5]\n",
    "param_grid['stemmedcountvectorizer__max_df'] = [0.6,0.8]\n",
    "param_grid['stemmedcountvectorizer__stop_words'] = ['english']\n",
    "param_grid['stemmedcountvectorizer__ngram_range'] = [(1,1),(1,2),(1,3),(1,4)]\n",
    "param_grid['multinomialnb__alpha'] = [0.5, 1]\n",
    "param_grid"
   ]
  },
  {
   "cell_type": "code",
   "execution_count": 112,
   "metadata": {
    "collapsed": true
   },
   "outputs": [],
   "source": [
    "grid = GridSearchCV(stem_pipeline, param_grid, cv=5, scoring='accuracy')"
   ]
  },
  {
   "cell_type": "code",
   "execution_count": 113,
   "metadata": {
    "collapsed": true
   },
   "outputs": [],
   "source": [
    "# time the grid search\n",
    "# %time grid.fit(X, y)\n",
    "\n",
    "#CPU times: user 2h 47min 34s, sys: 42.8 s, total: 2h 48min 17s\n",
    "#Wall time: 2h 49min 5s"
   ]
  },
  {
   "cell_type": "markdown",
   "metadata": {},
   "source": [
    "> CPU times: user 2h 47min 34s, sys: 42.8 s, total: 2h 48min 17s\n",
    "\n",
    "> Wall time: 2h 49min 5s"
   ]
  },
  {
   "cell_type": "code",
   "execution_count": 114,
   "metadata": {
    "scrolled": true
   },
   "outputs": [
    {
     "name": "stdout",
     "output_type": "stream",
     "text": [
      "Best Score: 0.3015\n",
      "Best Params: {'multinomialnb__alpha': 1, 'stemmedcountvectorizer__max_df': 0.6, 'stemmedcountvectorizer__min_df': 3, 'stemmedcountvectorizer__ngram_range': (1, 3), 'stemmedcountvectorizer__stop_words': 'english'}\n"
     ]
    }
   ],
   "source": [
    "# print the single best score and parameters that produced that score\n",
    "#print(grid.best_score_)\n",
    "#print(grid.best_params_)\n",
    "\n",
    "print(\"Best Score: 0.3015\")\n",
    "print(\"Best Params: {'multinomialnb__alpha': 1, 'stemmedcountvectorizer__max_df': 0.6, 'stemmedcountvectorizer__min_df': 3, 'stemmedcountvectorizer__ngram_range': (1, 3), 'stemmedcountvectorizer__stop_words': 'english'}\")\n"
   ]
  },
  {
   "cell_type": "markdown",
   "metadata": {},
   "source": [
    "> 0.3015\n",
    "{'multinomialnb alpha': 1, 'stemmedcountvectorizer max_df': 0.6, 'stemmedcountvectorizer min_df': 3, 'stemmedcountvectorizer ngram_range': (1, 3), 'stemmedcountvectorizer stop_words': 'english'}"
   ]
  },
  {
   "cell_type": "markdown",
   "metadata": {},
   "source": [
    "### Stemmed CountVectorizer with Multinomial Naive Bayes Summary\n",
    "\n",
    "  - Multinomial NB alpha = 1\n",
    "  - stemmer = nltk.stem.SnowballStemmer('english')\n",
    "  - CountVectorizer max_df = 0.6\n",
    "  - CountVectorizer min_df = 3\n",
    "  - CountVectorizer ngram_range = (1,3)\n",
    "  - CountVectorizer stop_words = 'english'\n",
    "  \n",
    "The best score was 0.3015"
   ]
  },
  {
   "cell_type": "markdown",
   "metadata": {},
   "source": [
    "### Stemmed TF-IDF Vectorizer with LogisticRegression\n",
    "\n",
    "In a previous run, I did discover that the above combination was the best.  Lets try this combination to see if we can better the score.\n",
    "\n"
   ]
  },
  {
   "cell_type": "code",
   "execution_count": 115,
   "metadata": {
    "collapsed": true
   },
   "outputs": [],
   "source": [
    "class StemmedTfidfVectorizer(TfidfVectorizer):\n",
    "    def __init__(self, stemmer=None, input='content', encoding='utf-8',\n",
    "                 decode_error='strict', strip_accents=None, lowercase=True,\n",
    "                 preprocessor=None, tokenizer=None, analyzer='word',\n",
    "                 stop_words=None, token_pattern=r\"(?u)\\b\\w\\w+\\b\",\n",
    "                 ngram_range=(1, 1), max_df=1.0, min_df=1,\n",
    "                 max_features=None, vocabulary=None, binary=False,\n",
    "                 dtype=np.int64, norm='l2', use_idf=True, smooth_idf=True,\n",
    "                 sublinear_tf=False):\n",
    "\n",
    "        super(StemmedTfidfVectorizer, self).__init__(\n",
    "            input=input, encoding=encoding, decode_error=decode_error,\n",
    "            strip_accents=strip_accents, lowercase=lowercase,\n",
    "            preprocessor=preprocessor, tokenizer=tokenizer, analyzer=analyzer,\n",
    "            stop_words=stop_words, token_pattern=token_pattern,\n",
    "            ngram_range=ngram_range, max_df=max_df, min_df=min_df,\n",
    "            max_features=max_features, vocabulary=vocabulary, binary=binary,\n",
    "            dtype=dtype, norm='l2', use_idf=True, smooth_idf=True,\n",
    "                             sublinear_tf=False)\n",
    "        self.stemmer = stemmer\n",
    "\n",
    "    def build_analyzer(self):\n",
    "        analyzer = super(StemmedTfidfVectorizer, self).build_analyzer()\n",
    "        return lambda doc: ([self.stemmer.stem(w) for w in analyzer(doc)])\n"
   ]
  },
  {
   "cell_type": "code",
   "execution_count": 116,
   "metadata": {
    "collapsed": true
   },
   "outputs": [],
   "source": [
    "# re- read the training data\n",
    "training_data = pd.read_csv('../data/kaggle/sa-emotions/train_data.csv')"
   ]
  },
  {
   "cell_type": "code",
   "execution_count": 117,
   "metadata": {},
   "outputs": [
    {
     "data": {
      "text/html": [
       "<div>\n",
       "<style>\n",
       "    .dataframe thead tr:only-child th {\n",
       "        text-align: right;\n",
       "    }\n",
       "\n",
       "    .dataframe thead th {\n",
       "        text-align: left;\n",
       "    }\n",
       "\n",
       "    .dataframe tbody tr th {\n",
       "        vertical-align: top;\n",
       "    }\n",
       "</style>\n",
       "<table border=\"1\" class=\"dataframe\">\n",
       "  <thead>\n",
       "    <tr style=\"text-align: right;\">\n",
       "      <th></th>\n",
       "      <th>sentiment</th>\n",
       "      <th>content</th>\n",
       "      <th>sentiment_num</th>\n",
       "    </tr>\n",
       "  </thead>\n",
       "  <tbody>\n",
       "    <tr>\n",
       "      <th>0</th>\n",
       "      <td>empty</td>\n",
       "      <td>@tiffanylue i know  i was listenin to bad habit earlier and i started freakin at his part =[</td>\n",
       "      <td>2</td>\n",
       "    </tr>\n",
       "    <tr>\n",
       "      <th>1000</th>\n",
       "      <td>worry</td>\n",
       "      <td>@Sageey My public talk in July got canceled and I don't know why.</td>\n",
       "      <td>12</td>\n",
       "    </tr>\n",
       "    <tr>\n",
       "      <th>2000</th>\n",
       "      <td>sadness</td>\n",
       "      <td>Epic ocd moment? I deleted my sims file that i spent hours building just because i set his favorite food wrong</td>\n",
       "      <td>10</td>\n",
       "    </tr>\n",
       "    <tr>\n",
       "      <th>3000</th>\n",
       "      <td>worry</td>\n",
       "      <td>[BBC] Malaria parasites becoming resistant to drugs  http://trunc.it/9yn5 ~ this is really not good as Malaria affects so many people</td>\n",
       "      <td>12</td>\n",
       "    </tr>\n",
       "    <tr>\n",
       "      <th>4000</th>\n",
       "      <td>neutral</td>\n",
       "      <td>my to do list is bananas, before i leave for Europe BOOOO</td>\n",
       "      <td>8</td>\n",
       "    </tr>\n",
       "    <tr>\n",
       "      <th>5000</th>\n",
       "      <td>sadness</td>\n",
       "      <td>darn it. I did it again.!  keep forgetting that darn &amp;quot;D&amp;quot; for DM's.....</td>\n",
       "      <td>10</td>\n",
       "    </tr>\n",
       "    <tr>\n",
       "      <th>6000</th>\n",
       "      <td>neutral</td>\n",
       "      <td>@chelsea_playboy R.I.P curls</td>\n",
       "      <td>8</td>\n",
       "    </tr>\n",
       "    <tr>\n",
       "      <th>7000</th>\n",
       "      <td>neutral</td>\n",
       "      <td>@Jeanise  I was going to say let's go to lunch...</td>\n",
       "      <td>8</td>\n",
       "    </tr>\n",
       "    <tr>\n",
       "      <th>8000</th>\n",
       "      <td>sadness</td>\n",
       "      <td>argh! why why why</td>\n",
       "      <td>10</td>\n",
       "    </tr>\n",
       "    <tr>\n",
       "      <th>9000</th>\n",
       "      <td>worry</td>\n",
       "      <td>@vronmcintyre I want an espresso machine</td>\n",
       "      <td>12</td>\n",
       "    </tr>\n",
       "    <tr>\n",
       "      <th>10000</th>\n",
       "      <td>love</td>\n",
       "      <td>@Crazy_Cindy  BIG HUGGS</td>\n",
       "      <td>7</td>\n",
       "    </tr>\n",
       "    <tr>\n",
       "      <th>11000</th>\n",
       "      <td>worry</td>\n",
       "      <td>is wondering y Mother Nature is making my life miserable</td>\n",
       "      <td>12</td>\n",
       "    </tr>\n",
       "    <tr>\n",
       "      <th>12000</th>\n",
       "      <td>happiness</td>\n",
       "      <td>Just got my paycheck... April bonus can b deposited 2day the rest, gotta wait til Mon.</td>\n",
       "      <td>5</td>\n",
       "    </tr>\n",
       "    <tr>\n",
       "      <th>13000</th>\n",
       "      <td>worry</td>\n",
       "      <td>I don't feel good.  .My throat hurts!!!!</td>\n",
       "      <td>12</td>\n",
       "    </tr>\n",
       "    <tr>\n",
       "      <th>14000</th>\n",
       "      <td>neutral</td>\n",
       "      <td>@QuindaS  your right.... How was your trip</td>\n",
       "      <td>8</td>\n",
       "    </tr>\n",
       "    <tr>\n",
       "      <th>15000</th>\n",
       "      <td>surprise</td>\n",
       "      <td>@RealJessicaAlba Is it true there won't be any Fantastic 4 sequels?  I wished they introduced a Franklin Richards character... will they?</td>\n",
       "      <td>11</td>\n",
       "    </tr>\n",
       "    <tr>\n",
       "      <th>16000</th>\n",
       "      <td>hate</td>\n",
       "      <td>I hate waiting in lines</td>\n",
       "      <td>6</td>\n",
       "    </tr>\n",
       "    <tr>\n",
       "      <th>17000</th>\n",
       "      <td>worry</td>\n",
       "      <td>@dunnybrasco Im home, phone died thou</td>\n",
       "      <td>12</td>\n",
       "    </tr>\n",
       "    <tr>\n",
       "      <th>18000</th>\n",
       "      <td>worry</td>\n",
       "      <td>is gonna be mad hungry when I get home. Forgot my money...</td>\n",
       "      <td>12</td>\n",
       "    </tr>\n",
       "    <tr>\n",
       "      <th>19000</th>\n",
       "      <td>sadness</td>\n",
       "      <td>really tired. and have to work the whole day tomorrow, the thought of it depresses me.  uncoooool....</td>\n",
       "      <td>10</td>\n",
       "    </tr>\n",
       "    <tr>\n",
       "      <th>20000</th>\n",
       "      <td>empty</td>\n",
       "      <td>Thanks for pointing out the crucial problems @thakkar. Both of them have been taken care of  (cc: @Netra)</td>\n",
       "      <td>2</td>\n",
       "    </tr>\n",
       "    <tr>\n",
       "      <th>21000</th>\n",
       "      <td>neutral</td>\n",
       "      <td>@KatieAlender ooh which two books did you buy?</td>\n",
       "      <td>8</td>\n",
       "    </tr>\n",
       "    <tr>\n",
       "      <th>22000</th>\n",
       "      <td>empty</td>\n",
       "      <td>@greyeyesgabriel You are clearly very busy  Take care of yourself, and I am sure you will be fine; takes one to know one ;)</td>\n",
       "      <td>2</td>\n",
       "    </tr>\n",
       "    <tr>\n",
       "      <th>23000</th>\n",
       "      <td>relief</td>\n",
       "      <td>is back in fine old melbourne town....</td>\n",
       "      <td>9</td>\n",
       "    </tr>\n",
       "    <tr>\n",
       "      <th>24000</th>\n",
       "      <td>hate</td>\n",
       "      <td>@girltrumpet yeahh  idk if i like owen anymore though... i kinda lost respect for him in an episode i recorded...</td>\n",
       "      <td>6</td>\n",
       "    </tr>\n",
       "    <tr>\n",
       "      <th>25000</th>\n",
       "      <td>fun</td>\n",
       "      <td>'Look at the tadpole'... 'No! ... Look at me!!!' ... Foolish dog  http://yfrog.com/05ixbj</td>\n",
       "      <td>4</td>\n",
       "    </tr>\n",
       "    <tr>\n",
       "      <th>26000</th>\n",
       "      <td>surprise</td>\n",
       "      <td>@azkikah the idiom?? doesn't ring a bell eh? hahaha. y'are really thinking of food?! nope. actually in the bathroom. teehee</td>\n",
       "      <td>11</td>\n",
       "    </tr>\n",
       "    <tr>\n",
       "      <th>27000</th>\n",
       "      <td>empty</td>\n",
       "      <td>@sugarrae i thought you would win!  Fabulously40 have some bots on her side?</td>\n",
       "      <td>2</td>\n",
       "    </tr>\n",
       "    <tr>\n",
       "      <th>28000</th>\n",
       "      <td>worry</td>\n",
       "      <td>@AnnebrittB slaying dragons &amp;amp; rescue innocents, this could be a good life movie   Make sure to take a camara and film!!!!</td>\n",
       "      <td>12</td>\n",
       "    </tr>\n",
       "    <tr>\n",
       "      <th>29000</th>\n",
       "      <td>neutral</td>\n",
       "      <td>@jareason left a comment on your blog post</td>\n",
       "      <td>8</td>\n",
       "    </tr>\n",
       "  </tbody>\n",
       "</table>\n",
       "</div>"
      ],
      "text/plain": [
       "       sentiment  \\\n",
       "0          empty   \n",
       "1000       worry   \n",
       "2000     sadness   \n",
       "3000       worry   \n",
       "4000     neutral   \n",
       "5000     sadness   \n",
       "6000     neutral   \n",
       "7000     neutral   \n",
       "8000     sadness   \n",
       "9000       worry   \n",
       "10000       love   \n",
       "11000      worry   \n",
       "12000  happiness   \n",
       "13000      worry   \n",
       "14000    neutral   \n",
       "15000   surprise   \n",
       "16000       hate   \n",
       "17000      worry   \n",
       "18000      worry   \n",
       "19000    sadness   \n",
       "20000      empty   \n",
       "21000    neutral   \n",
       "22000      empty   \n",
       "23000     relief   \n",
       "24000       hate   \n",
       "25000        fun   \n",
       "26000   surprise   \n",
       "27000      empty   \n",
       "28000      worry   \n",
       "29000    neutral   \n",
       "\n",
       "                                                                                                                                         content  \\\n",
       "0                                                   @tiffanylue i know  i was listenin to bad habit earlier and i started freakin at his part =[   \n",
       "1000                                                                           @Sageey My public talk in July got canceled and I don't know why.   \n",
       "2000                              Epic ocd moment? I deleted my sims file that i spent hours building just because i set his favorite food wrong   \n",
       "3000       [BBC] Malaria parasites becoming resistant to drugs  http://trunc.it/9yn5 ~ this is really not good as Malaria affects so many people   \n",
       "4000                                                                                   my to do list is bananas, before i leave for Europe BOOOO   \n",
       "5000                                                            darn it. I did it again.!  keep forgetting that darn &quot;D&quot; for DM's.....   \n",
       "6000                                                                                                                @chelsea_playboy R.I.P curls   \n",
       "7000                                                                                           @Jeanise  I was going to say let's go to lunch...   \n",
       "8000                                                                                                                           argh! why why why   \n",
       "9000                                                                                                    @vronmcintyre I want an espresso machine   \n",
       "10000                                                                                                                    @Crazy_Cindy  BIG HUGGS   \n",
       "11000                                                                                   is wondering y Mother Nature is making my life miserable   \n",
       "12000                                                     Just got my paycheck... April bonus can b deposited 2day the rest, gotta wait til Mon.   \n",
       "13000                                                                                                   I don't feel good.  .My throat hurts!!!!   \n",
       "14000                                                                                                 @QuindaS  your right.... How was your trip   \n",
       "15000  @RealJessicaAlba Is it true there won't be any Fantastic 4 sequels?  I wished they introduced a Franklin Richards character... will they?   \n",
       "16000                                                                                                                    I hate waiting in lines   \n",
       "17000                                                                                                      @dunnybrasco Im home, phone died thou   \n",
       "18000                                                                                 is gonna be mad hungry when I get home. Forgot my money...   \n",
       "19000                                      really tired. and have to work the whole day tomorrow, the thought of it depresses me.  uncoooool....   \n",
       "20000                                  Thanks for pointing out the crucial problems @thakkar. Both of them have been taken care of  (cc: @Netra)   \n",
       "21000                                                                                             @KatieAlender ooh which two books did you buy?   \n",
       "22000                @greyeyesgabriel You are clearly very busy  Take care of yourself, and I am sure you will be fine; takes one to know one ;)   \n",
       "23000                                                                                                     is back in fine old melbourne town....   \n",
       "24000                          @girltrumpet yeahh  idk if i like owen anymore though... i kinda lost respect for him in an episode i recorded...   \n",
       "25000                                                  'Look at the tadpole'... 'No! ... Look at me!!!' ... Foolish dog  http://yfrog.com/05ixbj   \n",
       "26000                @azkikah the idiom?? doesn't ring a bell eh? hahaha. y'are really thinking of food?! nope. actually in the bathroom. teehee   \n",
       "27000                                                               @sugarrae i thought you would win!  Fabulously40 have some bots on her side?   \n",
       "28000              @AnnebrittB slaying dragons &amp; rescue innocents, this could be a good life movie   Make sure to take a camara and film!!!!   \n",
       "29000                                                                                                 @jareason left a comment on your blog post   \n",
       "\n",
       "       sentiment_num  \n",
       "0                  2  \n",
       "1000              12  \n",
       "2000              10  \n",
       "3000              12  \n",
       "4000               8  \n",
       "5000              10  \n",
       "6000               8  \n",
       "7000               8  \n",
       "8000              10  \n",
       "9000              12  \n",
       "10000              7  \n",
       "11000             12  \n",
       "12000              5  \n",
       "13000             12  \n",
       "14000              8  \n",
       "15000             11  \n",
       "16000              6  \n",
       "17000             12  \n",
       "18000             12  \n",
       "19000             10  \n",
       "20000              2  \n",
       "21000              8  \n",
       "22000              2  \n",
       "23000              9  \n",
       "24000              6  \n",
       "25000              4  \n",
       "26000             11  \n",
       "27000              2  \n",
       "28000             12  \n",
       "29000              8  "
      ]
     },
     "execution_count": 117,
     "metadata": {},
     "output_type": "execute_result"
    }
   ],
   "source": [
    "# encode the sentiment outcomes as a number using the LabelEncoder\n",
    "# would like to create a column, e.g. sentiment_num, which is a numeric representation of the sentiment.\n",
    "# this will have to also be applied to any test data.\n",
    "label_encoder = LabelEncoder()\n",
    "\n",
    "# fit the label encoder with the unique set of sentiments in the training data.\n",
    "label_encoder.fit(training_data.sentiment.unique())\n",
    "# planning ahead, create a function to create features in a data set that we will have to create in \n",
    "# both the training and testing data\n",
    "def make_features(df, sentiment_num_encoder):\n",
    "    training_data['sentiment_num'] = training_data.sentiment.apply(lambda x: label_encoder.transform([x])[0])\n",
    "    \n",
    "make_features(training_data, sentiment_num_encoder=label_encoder)\n",
    "training_data[::1000]"
   ]
  },
  {
   "cell_type": "code",
   "execution_count": 118,
   "metadata": {
    "collapsed": true
   },
   "outputs": [],
   "source": [
    "# Create a pipeline with the transformers we are keeping, and see the overall improvement.\n",
    "preprocessor_pipeline = make_pipeline(RemoveNumbersTransformer(), RemoveUsernameTransformer())\n",
    "\n",
    "# create stemmer\n",
    "stemmer = nltk.stem.SnowballStemmer('english')\n",
    "# 0.3145 stemmed_tfidf_vectorizer = StemmedTfidfVectorizer(stemmer=stemmer, min_df=5, max_df=0.8, ngram_range=(1,4), sublinear_tf=True,  stop_words='english')\n",
    "stemmed_tfidf_vectorizer = StemmedTfidfVectorizer(stemmer=stemmer, min_df=5, max_df=0.8, ngram_range=(1,4), stop_words='english')\n",
    "\n",
    "# baseline pipeline.\n",
    "tfidf_stem_pipeline = make_pipeline(stemmed_tfidf_vectorizer, LogisticRegression(C=0.1))\n"
   ]
  },
  {
   "cell_type": "code",
   "execution_count": 119,
   "metadata": {
    "collapsed": true
   },
   "outputs": [],
   "source": [
    "preprocessed_training_data = preprocessor_pipeline.transform(training_data.content)\n",
    "# Define new X and y variables\n",
    "X = preprocessed_training_data\n",
    "y = training_data.sentiment_num"
   ]
  },
  {
   "cell_type": "code",
   "execution_count": 120,
   "metadata": {},
   "outputs": [
    {
     "name": "stdout",
     "output_type": "stream",
     "text": [
      "(30000,)\n",
      "(30000,)\n"
     ]
    }
   ],
   "source": [
    "print(X.shape)\n",
    "print(y.shape)"
   ]
  },
  {
   "cell_type": "code",
   "execution_count": 121,
   "metadata": {},
   "outputs": [
    {
     "data": {
      "text/plain": [
       "0    i know  i was listenin to bad habit earlier and i started freakin at his part =[\n",
       "1                        Layin n bed with a headache  ughhhh...waitin on your call...\n",
       "2                                                 Funeral ceremony...gloomy friday...\n",
       "3                                                wants to hang out with friends SOON!\n",
       "4             We want to trade with someone who has Houston tickets, but no one will.\n",
       "Name: content, dtype: object"
      ]
     },
     "execution_count": 121,
     "metadata": {},
     "output_type": "execute_result"
    }
   ],
   "source": [
    "X.head()"
   ]
  },
  {
   "cell_type": "code",
   "execution_count": 122,
   "metadata": {},
   "outputs": [
    {
     "data": {
      "text/plain": [
       "{'stemmedtfidfvectorizer__sublinear_tf': [False, True]}"
      ]
     },
     "execution_count": 122,
     "metadata": {},
     "output_type": "execute_result"
    }
   ],
   "source": [
    "# create a grid of parameters to search (and specify the pipeline step along with the parameter)\n",
    "param_grid = {}\n",
    "param_grid['stemmedtfidfvectorizer__sublinear_tf'] = [False, True]\n",
    "param_grid"
   ]
  },
  {
   "cell_type": "code",
   "execution_count": 123,
   "metadata": {
    "collapsed": true
   },
   "outputs": [],
   "source": [
    "grid = GridSearchCV(tfidf_stem_pipeline, param_grid, cv=5, scoring='accuracy')"
   ]
  },
  {
   "cell_type": "code",
   "execution_count": 124,
   "metadata": {
    "collapsed": true
   },
   "outputs": [],
   "source": [
    "# time the grid search\n",
    "# comment out because we do not want to run every time. %time grid.fit(X, y)"
   ]
  },
  {
   "cell_type": "code",
   "execution_count": 125,
   "metadata": {},
   "outputs": [
    {
     "name": "stdout",
     "output_type": "stream",
     "text": [
      "Best Score: 0.3153\n",
      "Best Params: {'stemmedtfidfvectorizer__sublinear_tf': True}\n"
     ]
    }
   ],
   "source": [
    "# print the single best score and parameters that produced that score\n",
    "#print(grid.best_score_)\n",
    "#print(grid.best_params_)\n",
    "\n",
    "print(\"Best Score: 0.3153\")\n",
    "print(\"Best Params: {'stemmedtfidfvectorizer__sublinear_tf': True}\")"
   ]
  },
  {
   "cell_type": "markdown",
   "metadata": {},
   "source": [
    "## Model Conclusion\n",
    "\n",
    "It appears that a Stemmed TFIDFVectorizer, and LogisticRegression are so far the best combination.\n",
    "\n",
    "Below is the summarized pipelines"
   ]
  },
  {
   "cell_type": "code",
   "execution_count": 126,
   "metadata": {
    "collapsed": true
   },
   "outputs": [],
   "source": [
    "# Create a pipeline with the transformers we are keeping, and see the overall improvement.\n",
    "preprocessor_pipeline = make_pipeline(RemoveNumbersTransformer(), RemoveUsernameTransformer())\n",
    "\n",
    "# create stemmer\n",
    "stemmer = nltk.stem.SnowballStemmer('english')\n",
    "stemmed_tfidf_vectorizer = StemmedTfidfVectorizer(stemmer=stemmer, min_df=5, max_df=0.8, ngram_range=(1,4), stop_words='english', sublinear_tf=True)\n",
    "\n",
    "# baseline pipeline.\n",
    "tfidf_stem_pipeline = make_pipeline(stemmed_tfidf_vectorizer, LogisticRegression(C=0.1))\n",
    "preprocessed_training_data = preprocessor_pipeline.transform(training_data)\n",
    "# Define new X and y variables\n",
    "X = preprocessed_training_data.content\n",
    "y = training_data.sentiment_num"
   ]
  },
  {
   "cell_type": "markdown",
   "metadata": {},
   "source": [
    "## Summary \n",
    "\n",
    "The block below is a summary of all of the steps in one place for a simple review.  It was decided to go with LogisticRegression."
   ]
  },
  {
   "cell_type": "code",
   "execution_count": 127,
   "metadata": {
    "collapsed": true
   },
   "outputs": [],
   "source": [
    "def mark_negation_sentence(sentence):\n",
    "    \"\"\"\n",
    "    This function will take a sentence in, split it and call mark_negation, and \n",
    "    puts the string back together again.  \n",
    "    \n",
    "    Append _NEG suffix to words that appear in the scope between a negation\n",
    "    and a punctuation mark.\n",
    "    \n",
    "    :param sentence an entire sentence\n",
    "    :return sentence with the negation marked\n",
    "    \"\"\"\n",
    "    return \" \".join(mark_negation(sentence.split()))\n"
   ]
  },
  {
   "cell_type": "code",
   "execution_count": 128,
   "metadata": {},
   "outputs": [
    {
     "name": "stdout",
     "output_type": "stream",
     "text": [
      "['anger', 'boredom', 'empty', 'enthusiasm', 'fun', 'happiness', 'hate', 'love', 'neutral', 'relief', 'sadness', 'surprise', 'worry']\n",
      "Train document term maxtrix: (22500, 6368)\n",
      "Test document term maxtrix: (7500, 6368)\n",
      "CPU times: user 1.42 s, sys: 16.9 ms, total: 1.44 s\n",
      "Wall time: 1.46 s\n",
      "Accuracy: 0.3294666666666667\n"
     ]
    }
   ],
   "source": [
    "# Now that we have an idea of what model we want to use, create a more traditional, train_test_split and\n",
    "# look at things like the confusion matrix, etc\n",
    "\n",
    "    \n",
    "# read in the training data\n",
    "training_data = pd.read_csv('../data/kaggle/sa-emotions/train_data.csv')\n",
    "\n",
    "# encode the sentiment outcomes as a number using the LabelEncoder\n",
    "# would like to create a column, e.g. sentiment_num, which is a numeric representation of the sentiment.\n",
    "# this will have to also be applied to any test data.\n",
    "label_encoder = LabelEncoder()\n",
    "\n",
    "# fit the label encoder with the unique set of sentiments in the training data.\n",
    "label_encoder.fit(training_data.sentiment.unique())\n",
    "\n",
    "# print out what classes were discovered\n",
    "print(list(label_encoder.classes_))\n",
    "\n",
    "\n",
    "# add the sentiment_num column\n",
    "training_data['sentiment_num'] = training_data.sentiment.apply(lambda x: label_encoder.transform([x])[0])\n",
    "\n",
    "# Create a pipeline with the transformers we are keeping, and see the overall improvement.\n",
    "preprocessor_pipeline = make_pipeline(RemoveNumbersTransformer(), RemoveUsernameTransformer())\n",
    "preprocessed_training_data_content = preprocessor_pipeline.transform(training_data.content)\n",
    "\n",
    "#print(training_data.content.head(300))\n",
    "\n",
    "# Define new X and y variables\n",
    "# Apply the mark negation transformer to the data set.\n",
    "X = training_data.content.apply(mark_negation_sentence)\n",
    "y = training_data.sentiment_num\n",
    "\n",
    "# just to see the _NEG work print(X[:100])\n",
    "# train_test_split\n",
    "X_train, X_test, y_train, y_test = train_test_split(X,y,random_state=1)\n",
    "\n",
    "# create stemmer and vectorizer\n",
    "stemmer = nltk.stem.SnowballStemmer('english')\n",
    "stemmed_tfidf_vectorizer = StemmedTfidfVectorizer(stemmer=stemmer, min_df=5, max_df=0.8, ngram_range=(1,4), stop_words='english', sublinear_tf=True)\n",
    "\n",
    "# establish the vocabulary\n",
    "stemmed_tfidf_vectorizer.fit(X_train)\n",
    "\n",
    "# create the document term matrix\n",
    "X_train_dtm = stemmed_tfidf_vectorizer.transform(X_train)\n",
    "\n",
    "# create a test document-term matrix\n",
    "X_test_dtm = stemmed_tfidf_vectorizer.transform(X_test)\n",
    "\n",
    "print(\"Train document term maxtrix: {}\".format(X_train_dtm.shape))\n",
    "print(\"Test document term maxtrix: {}\".format(X_test_dtm.shape))\n",
    "\n",
    "# create LogisticRegression Model\n",
    "model = LogisticRegression(C=0.1)\n",
    "\n",
    "#model = SGDClassifier(loss='hinge', penalty='l2', alpha=1e-3, n_iter=5, random_state=42)\n",
    "\n",
    "# train the model using the X_train_dtm\n",
    "%time model.fit(X_train_dtm, y_train)\n",
    "\n",
    "# make predictions on the test document \n",
    "y_predictions = model.predict(X_test_dtm)\n",
    "\n",
    "# calculation accuracy\n",
    "accuracy = metrics.accuracy_score(y_test, y_predictions)\n",
    "\n",
    "print(\"Accuracy: {}\".format(accuracy))\n",
    "\n",
    "confusion_matrix = metrics.confusion_matrix(y_test, y_predictions)\n"
   ]
  },
  {
   "cell_type": "code",
   "execution_count": 129,
   "metadata": {},
   "outputs": [
    {
     "name": "stdout",
     "output_type": "stream",
     "text": [
      "[[   0    0    0    0    0    0    0    0    5    0    1    0   16]\n",
      " [   0    0    0    0    0    0    0    0    8    0    3    0   23]\n",
      " [   0    0    0    0    0    1    0    0   73    0    6    0   83]\n",
      " [   0    0    0    0    0    4    0    1   52    0    4    0   61]\n",
      " [   0    0    0    0    0   10    0    6  131    0    5    0  120]\n",
      " [   0    0    0    0    0   84    0   15  407    0    8    0  279]\n",
      " [   0    0    0    0    0    0    8    0   84    0   12    0  200]\n",
      " [   0    0    0    0    0   38    0   68  224    0   22    0  192]\n",
      " [   0    0    0    0    0   31    2   19  807    0   32    0  628]\n",
      " [   0    0    0    0    0    9    0    3  108    0    5    0  131]\n",
      " [   0    0    0    0    0    4    1   11  263    0  131    0  775]\n",
      " [   0    0    0    0    0    9    0    5  126    0    7    0  221]\n",
      " [   0    0    0    0    0   10    1   10  433    0   91    0 1373]]\n"
     ]
    }
   ],
   "source": [
    "print(confusion_matrix)"
   ]
  },
  {
   "cell_type": "code",
   "execution_count": 130,
   "metadata": {
    "collapsed": true
   },
   "outputs": [],
   "source": [
    "# https://gist.github.com/zachguo/10296432\n",
    "def print_cm(cm, labels, hide_zeroes=False, hide_diagonal=False, hide_threshold=None):\n",
    "    \"\"\"pretty print for confusion matrixes\"\"\"\n",
    "    columnwidth = max([len(x) for x in labels] + [5])  # 5 is value length\n",
    "    empty_cell = \" \" * columnwidth\n",
    "    # Print header\n",
    "    print(\"    \" + empty_cell, end=\" \")\n",
    "    for label in labels:\n",
    "        print(\"%{0}s\".format(columnwidth) % label, end=\" \")\n",
    "    print()\n",
    "    # Print rows\n",
    "    for i, label1 in enumerate(labels):\n",
    "        print(\"    %{0}s\".format(columnwidth) % label1, end=\" \")\n",
    "        for j in range(len(labels)):\n",
    "            cell = \"%{0}.1f\".format(columnwidth) % cm[i, j]\n",
    "            if hide_zeroes:\n",
    "                cell = cell if float(cm[i, j]) != 0 else empty_cell\n",
    "            if hide_diagonal:\n",
    "                cell = cell if i != j else empty_cell\n",
    "            if hide_threshold:\n",
    "                cell = cell if cm[i, j] > hide_threshold else empty_cell\n",
    "            print(cell, end=\" \")\n",
    "        print()"
   ]
  },
  {
   "cell_type": "code",
   "execution_count": 131,
   "metadata": {},
   "outputs": [
    {
     "name": "stdout",
     "output_type": "stream",
     "text": [
      "                    anger    boredom      empty enthusiasm        fun  happiness       hate       love    neutral     relief    sadness   surprise      worry \n",
      "         anger        0.0        0.0        0.0        0.0        0.0        0.0        0.0        0.0        5.0        0.0        1.0        0.0       16.0 \n",
      "       boredom        0.0        0.0        0.0        0.0        0.0        0.0        0.0        0.0        8.0        0.0        3.0        0.0       23.0 \n",
      "         empty        0.0        0.0        0.0        0.0        0.0        1.0        0.0        0.0       73.0        0.0        6.0        0.0       83.0 \n",
      "    enthusiasm        0.0        0.0        0.0        0.0        0.0        4.0        0.0        1.0       52.0        0.0        4.0        0.0       61.0 \n",
      "           fun        0.0        0.0        0.0        0.0        0.0       10.0        0.0        6.0      131.0        0.0        5.0        0.0      120.0 \n",
      "     happiness        0.0        0.0        0.0        0.0        0.0       84.0        0.0       15.0      407.0        0.0        8.0        0.0      279.0 \n",
      "          hate        0.0        0.0        0.0        0.0        0.0        0.0        8.0        0.0       84.0        0.0       12.0        0.0      200.0 \n",
      "          love        0.0        0.0        0.0        0.0        0.0       38.0        0.0       68.0      224.0        0.0       22.0        0.0      192.0 \n",
      "       neutral        0.0        0.0        0.0        0.0        0.0       31.0        2.0       19.0      807.0        0.0       32.0        0.0      628.0 \n",
      "        relief        0.0        0.0        0.0        0.0        0.0        9.0        0.0        3.0      108.0        0.0        5.0        0.0      131.0 \n",
      "       sadness        0.0        0.0        0.0        0.0        0.0        4.0        1.0       11.0      263.0        0.0      131.0        0.0      775.0 \n",
      "      surprise        0.0        0.0        0.0        0.0        0.0        9.0        0.0        5.0      126.0        0.0        7.0        0.0      221.0 \n",
      "         worry        0.0        0.0        0.0        0.0        0.0       10.0        1.0       10.0      433.0        0.0       91.0        0.0     1373.0 \n"
     ]
    }
   ],
   "source": [
    "print_cm(confusion_matrix, list(label_encoder.classes_))"
   ]
  },
  {
   "cell_type": "markdown",
   "metadata": {},
   "source": [
    "Screen capture of the confusion matrix in an easier to read form\n",
    "\n",
    "![Clean Confusion Matrix](confusion_matrix.png) "
   ]
  },
  {
   "cell_type": "code",
   "execution_count": 132,
   "metadata": {},
   "outputs": [
    {
     "data": {
      "text/html": [
       "<div>\n",
       "<style>\n",
       "    .dataframe thead tr:only-child th {\n",
       "        text-align: right;\n",
       "    }\n",
       "\n",
       "    .dataframe thead th {\n",
       "        text-align: left;\n",
       "    }\n",
       "\n",
       "    .dataframe tbody tr th {\n",
       "        vertical-align: top;\n",
       "    }\n",
       "</style>\n",
       "<table border=\"1\" class=\"dataframe\">\n",
       "  <thead>\n",
       "    <tr style=\"text-align: right;\">\n",
       "      <th></th>\n",
       "      <th>y_pred</th>\n",
       "      <th>y_test</th>\n",
       "    </tr>\n",
       "  </thead>\n",
       "  <tbody>\n",
       "    <tr>\n",
       "      <th>10747</th>\n",
       "      <td>12</td>\n",
       "      <td>6</td>\n",
       "    </tr>\n",
       "    <tr>\n",
       "      <th>12573</th>\n",
       "      <td>12</td>\n",
       "      <td>8</td>\n",
       "    </tr>\n",
       "    <tr>\n",
       "      <th>29676</th>\n",
       "      <td>8</td>\n",
       "      <td>8</td>\n",
       "    </tr>\n",
       "    <tr>\n",
       "      <th>8856</th>\n",
       "      <td>12</td>\n",
       "      <td>10</td>\n",
       "    </tr>\n",
       "    <tr>\n",
       "      <th>21098</th>\n",
       "      <td>5</td>\n",
       "      <td>5</td>\n",
       "    </tr>\n",
       "    <tr>\n",
       "      <th>17458</th>\n",
       "      <td>12</td>\n",
       "      <td>12</td>\n",
       "    </tr>\n",
       "    <tr>\n",
       "      <th>1476</th>\n",
       "      <td>12</td>\n",
       "      <td>8</td>\n",
       "    </tr>\n",
       "    <tr>\n",
       "      <th>5120</th>\n",
       "      <td>10</td>\n",
       "      <td>8</td>\n",
       "    </tr>\n",
       "    <tr>\n",
       "      <th>18338</th>\n",
       "      <td>12</td>\n",
       "      <td>5</td>\n",
       "    </tr>\n",
       "    <tr>\n",
       "      <th>28279</th>\n",
       "      <td>8</td>\n",
       "      <td>9</td>\n",
       "    </tr>\n",
       "  </tbody>\n",
       "</table>\n",
       "</div>"
      ],
      "text/plain": [
       "       y_pred  y_test\n",
       "10747      12       6\n",
       "12573      12       8\n",
       "29676       8       8\n",
       "8856       12      10\n",
       "21098       5       5\n",
       "17458      12      12\n",
       "1476       12       8\n",
       "5120       10       8\n",
       "18338      12       5\n",
       "28279       8       9"
      ]
     },
     "execution_count": 132,
     "metadata": {},
     "output_type": "execute_result"
    }
   ],
   "source": [
    "# Create a data frame that shows the predicted and actual test values so we can easily \n",
    "# compare the predicted and actual.\n",
    "results_df = pd.DataFrame({'y_test': y_test, 'y_pred': y_predictions})\n",
    "results_df.head(10)"
   ]
  },
  {
   "cell_type": "code",
   "execution_count": 133,
   "metadata": {},
   "outputs": [
    {
     "data": {
      "text/plain": [
       "12573                                                                                                                                                                               Must head back to the office\n",
       "1476                                                                                                                                                                                              crash in Qmbol\n",
       "20371    not sure_NEG I_NEG like_NEG this_NEG way_NEG to_NEG learn_NEG a_NEG new_NEG language_NEG I_NEG prefer_NEG to_NEG be_NEG &quot;on_NEG location&quot;,_NEG so_NEG I_NEG can_NEG practice,_NEG ask_NEG ...\n",
       "4984                                                                                                                        i love how nice the weather is today and i am camping tonight! oh and i hate my hair\n",
       "21382                                                                                                                                    I think that's the Muji stabilo. Because she was eyeing mine last week.\n",
       "Name: content, dtype: object"
      ]
     },
     "execution_count": 133,
     "metadata": {},
     "output_type": "execute_result"
    }
   ],
   "source": [
    "# false negative anger\n",
    "# y_test is anger, but the prediction is not anger.\n",
    "# look at the resulting strings and try to see what we can do to make a better anger prediction\n",
    "tp_anger = X_test[(results_df.y_test == 8) & (results_df.y_pred == 12) ]\n",
    "tp_anger.head()"
   ]
  },
  {
   "cell_type": "code",
   "execution_count": 134,
   "metadata": {},
   "outputs": [
    {
     "name": "stdout",
     "output_type": "stream",
     "text": [
      "sentiment               neutral\n",
      "content          crash in Qmbol\n",
      "sentiment_num                 8\n",
      "Name: 1476, dtype: object\n",
      "sentiment                                                                         neutral\n",
      "content          I think that's the Muji stabilo.  Because she was eyeing mine last week.\n",
      "sentiment_num                                                                           8\n",
      "Name: 21382, dtype: object\n"
     ]
    }
   ],
   "source": [
    "print(training_data.loc[1476])\n",
    "print(training_data.loc[21382])"
   ]
  },
  {
   "cell_type": "code",
   "execution_count": 135,
   "metadata": {},
   "outputs": [
    {
     "data": {
      "text/plain": [
       "3551                                                                              why im not sleeping_NEG !!_NEG\n",
       "12549                             Man i am being boring today not tweeting_NEG How_NEG are_NEG you_NEG guys?_NEG\n",
       "19862    -Pendulum = awesome!-Goodbyes suck -Shut up plz.-Toy Story!! -JBD MOVIEMORO!-I'm tired.-Aaaand I'm out.\n",
       "8670                                                              One hour and fifteen minutes. A dreadful wait.\n",
       "6653                                                     Really bored tonight though Your book I think (Y) xxxxx\n",
       "Name: content, dtype: object"
      ]
     },
     "execution_count": 135,
     "metadata": {},
     "output_type": "execute_result"
    }
   ],
   "source": [
    "# false negative boredom\n",
    "pred_class_num = 1\n",
    "tp_boredom = X_test[(results_df.y_test == pred_class_num) & (results_df.y_pred != pred_class_num)]\n",
    "tp_boredom.head()"
   ]
  },
  {
   "cell_type": "code",
   "execution_count": 136,
   "metadata": {},
   "outputs": [
    {
     "name": "stdout",
     "output_type": "stream",
     "text": [
      "-------------------------------------------------\n",
      "False Negatives for class: 0 anger\n",
      "527                                                                                                                                                   Working But it's Fridaaaayyyyy\n",
      "2664                                                                                                                                            lost all my files since high school.\n",
      "14082                                                                                                         sam and sean are teasing me saying they are gonna get wings without me\n",
      "6895                has a VERY arduous task to accomplish at work...stuff that should have already been done &amp; as usual it hasn't. Not_NEG because_NEG of_NEG me_NEG either._NEG\n",
      "4511                                                                                       The toaster oven was my fault. Now I'm going to look like an idiot in front of my father.\n",
      "2135                                                                                       My stomach is all EXPLODE from the wendys why is everything that tastes good bad for you?\n",
      "7767                                                                                                                                            studying for this bullshit econ test\n",
      "20734                                                                                     http://twitpic.com/j - Guess I need to get me an iPhone now for sure!!! It looks bad ass!!\n",
      "7205     Murphy's Law? Sorry that your computer is not cooperating_NEG when_NEG you_NEG have_NEG lots_NEG of_NEG work._NEG My_NEG kids_NEG are_NEG .._NEG http://tinyurl.com/kmx_NEG\n",
      "612                                                                                                                                                Packing I don't like_NEG it.._NEG\n",
      "12996                                                                                                                                             Why do you not respond_NEG me?_NEG\n",
      "13041                                                                                                          Big Laptop is too big, so it's time to switch to the Eee. Bye big guy\n",
      "18851                                                                                                                                                 too sick for rigging tomorrow.\n",
      "17521                                                                                              Apperently ea knows my copy of the sims is not legit_NEG and_NEG is_NEG upset_NEG\n",
      "1377                                                                               I tried to dye my hair and all i got was a blond chunk in the front middle part of my hair. Dang.\n",
      "17243                                                                                                                                   I am beginning to think sun blcok is a haox.\n",
      "3337                                                                                                 If you don't want_NEG to_NEG come_NEG then_NEG don't_NEG come._NEG JEEEEEZ._NEG\n",
      "19224                                                                                                             UUUUUGH!!! I HATE I MISSED INTERVIEW!!! I WASNT AT HOME!!! DARN!!!\n",
      "9998                                                                                                                         #twitterfails fucking hard right now...this is annoying\n",
      "10734                                                                                                                         bout to go to work with a wicked sunburn on the chest.\n",
      "Name: content, dtype: object\n",
      "-------------------------------------------------\n",
      "False Negatives for class: 1 boredom\n",
      "3551                                                                                                                                          why im not sleeping_NEG !!_NEG\n",
      "12549                                                                                         Man i am being boring today not tweeting_NEG How_NEG are_NEG you_NEG guys?_NEG\n",
      "19862                                                                -Pendulum = awesome!-Goodbyes suck -Shut up plz.-Toy Story!! -JBD MOVIEMORO!-I'm tired.-Aaaand I'm out.\n",
      "8670                                                                                                                          One hour and fifteen minutes. A dreadful wait.\n",
      "6653                                                                                                                 Really bored tonight though Your book I think (Y) xxxxx\n",
      "345                                                                                                                                   why did i agree to work a double shift\n",
      "27057                                                                                                                               Aboutpm. Squeaking?! Hell squeaking?! D:\n",
      "9399                                                           jus sittin in da libray and this stupid computer wont let_NEG me_NEG order_NEG any_NEG mac_NEG foundation_NEG\n",
      "1104                                                                                                                       Tweeting from the tarmac at Cork Airport. Delayed\n",
      "11799                                                                                                sitting at the chevy dealership in utah waiting for the van to be fixed\n",
      "15588                                                                                                                            buuuut its so annoying!! okay *breathes* x.\n",
      "10503    Were you going to come? The venue said that they couldn't afford_NEG to_NEG open_NEG so_NEG cancelled_NEG it._NEG I_NEG wish_NEG we_NEG were_NEG there_NEG now!_NEG\n",
      "18292                                                                            Same! Like the kisses on nights when she wasnt up for eviction! They were very badly edited\n",
      "5145                                                                                                                                       i dislike math, but math HATES me\n",
      "14124                                                                 is tired.: alarm setting will do that Off to bed as soon as my bloody iPhone Backup and Sync finishes.\n",
      "12044                                                                                                    Ditto that, my friend...BORED! Oops, now I have an exciting problem\n",
      "11344                                                                           i don't know_NEG what_NEG to_NEG do..._NEG time_NEG is_NEG going_NEG by_NEG so_NEG fast._NEG\n",
      "11321                                                                                                 need some more enthu movie guys for that. Right now it's just you, and\n",
      "6868                                                                                                   The gigantic initial inertial to get oneself to work after a deadline\n",
      "2674                                                       fo shizzle. . . i'm bored and wanna go do something. wish i went to pisay today. oh wellz. wonder who were there.\n",
      "Name: content, dtype: object\n",
      "-------------------------------------------------\n",
      "False Negatives for class: 2 empty\n",
      "10212                                                                                                                                                                          i gotta say, i'm a little jealous\n",
      "29124                                                                                                                              #pens...steigy...no politics hun...the obamas are not watching_NEG hockey_NEG\n",
      "15517                                                                   awww my trini no esata_NEG bien_NEG bendito_NEG too_NEG bad_NEG i_NEG cant_NEG fly_NEG in_NEG and_NEG make_NEG u_NEG feel_NEG better_NEG\n",
      "12893                                                                                                                                          http://twurl.nl/goljwp is what i get when i try to add a new post\n",
      "17204                                                                                                                                                                                   it's raining I'm hiding.\n",
      "29970                                                                                                                                                                                             oui ta soeur!!\n",
      "29684                                                                                                                                                                                          Plan, successful?\n",
      "8341                                                                                                                                                FML i just spilled my entire can of diet coke IN MY LAP. yay\n",
      "21351                                                                       *waves* not quite_NEG some_NEG of_NEG us_NEG are_NEG still_NEG lounging_NEG around_NEG How_NEG are_NEG you_NEG this_NEG morning?_NEG\n",
      "8849                                                                                                               When God created man i also believed he created a million people to get on ya tits for a laff\n",
      "12479                                                                                                                 days of summer holiday left, and they are going way too slow! When will school get here???\n",
      "24853    no. dont really_NEG mean_NEG anything_NEG to_NEG me_NEG anymore_NEG :L_NEG it_NEG did_NEG when_NEG good_NEG old_NEG top_NEG of_NEG the_NEG pops_NEG was_NEG on_NEG every_NEG sat_NEG or_NEG friday_N...\n",
      "3588                                                 friends romans and country men lol ppl need help me out and say i have twitter i dont have_NEG any_NEG friends_NEG loner_NEG loner_NEG la_NEG da_NEG da_NEG\n",
      "29075                                                                            Trying to figure out what to do tonight. See the game? Social events w. friends? Or stay home and play the s**t out of my drums\n",
      "11960                                                                                                                                                  Just came back from school.... Packing for my dad's house\n",
      "17795                                                                                                                                                                  Trader Joe's &quot;sushi&quot; is a fail.\n",
      "19927                                                                                                                                                                                                    sa'weee\n",
      "16259                                                                                                                                No fun Well hopefully you don't have_NEG much_NEG more_NEG to_NEG go..._NEG\n",
      "14447                                                                                                                                                  Lost a battle with the couch....phone has been blowing up\n",
      "15270                                                                                                              Maybe i won't go_NEG for_NEG a_NEG run_NEG .._NEG i_NEG have_NEG no_NEG running_NEG shoes_NEG\n",
      "Name: content, dtype: object\n",
      "-------------------------------------------------\n",
      "False Negatives for class: 3 enthusiasm\n",
      "3608                                                                                well us Brits have to wait a few more days for it! I thought it was all gonna released at once! I guess it's worth the wait!\n",
      "23887                                                                                                                                            Press 'Ctrl' on bottom right. The underscore for E is there. KY\n",
      "24476                                                                                                                                                                                 I want to see David cook!!\n",
      "11548                                                                                                                                              Interesting... I never get_NEG to_NEG Etown,_NEG however._NEG\n",
      "23712         ooohhh. I understand. I never get_NEG sick_NEG of_NEG her_NEG so_NEG im_NEG on_NEG your_NEG moms_NEG side_NEG I_NEG guess_NEG your_NEG dad_NEG just_NEG likes_NEG what_NEG he_NEG likes....lol_NEG\n",
      "12471                                                                                                                                                    last day of work ...but everyone is making it so great!\n",
      "27497                                                                                          thanks for a nice blog post! should however be given some creds since he has done at least half of the work on it\n",
      "27342                                                                                                                                                            Well....hopefully someday soon you can get one!\n",
      "22790                                                                                                                                                                 I hope you're tired for a good reason then\n",
      "27079                                                                                                                    ... Lol! Probably a little sweeter in the carribbean! Tropical island sounds wonderful.\n",
      "28609                                                                                                                                            haaah, making the card for mothers day, and listening to musicc\n",
      "24037                                                                                                                                                add me on myspace?? www.myspace.com/pwnage_org -&gt; pcFOpc\n",
      "21246                                                                                                                                   I really like pink after I saw her live while in the new T-MOBILE Advert\n",
      "28672                                                                                                                                                                Yep, that B-Day kiss is gonna happen, right\n",
      "21444                                                                                                                                                            you outta follow zipz for discounts and updates\n",
      "12209                                                                                                                       Nice seeing my partner in crime/gossip drama queen partner again. I missed my Manda!\n",
      "1928                                                                                 Getting ready for work and the sun is shining, plus it's the w/e! Bgt tonight..... what am I gonna do after it's finished?!\n",
      "10180                                                                                                                              Even without the dressing they're still over calories. I love that flatbread.\n",
      "20007    holllaaa.. i dont know_NEG what_NEG ur_NEG up_NEG doing_NEG but_NEG im_NEG trying_NEG to_NEG finish_NEG up_NEG some_NEG work_NEG for_NEG school..._NEG bout_NEG to_NEG go_NEG to_NEG bed_NEG though_NEG\n",
      "15235                                                                                                                   - Gig was awesome! Am exahausted and so dont want_NEG to_NEG revise_NEG Boo_NEG Hoo!_NEG\n",
      "Name: content, dtype: object\n",
      "-------------------------------------------------\n",
      "False Negatives for class: 4 fun\n",
      "7526          haha well i was at my friend's party, but then i realized i forgot my stepmom's bday, so i had to come home to call her!\n",
      "16577                                                                   word is marlon brando gave him cent . . . yeah , tha GODFATHER\n",
      "16997             Rehearsal is done we had SO MUCH FUUN. hide&amp;seek tag and we learned BOMB DANCES , going home and doing hw maybe!\n",
      "5670                                                                                           really wanted to go to that gig tonight\n",
      "24051                                 haha well have fun at school! I'm gonna be sittin' at home with my italian restaurant by my side\n",
      "26788                                                                        hehe now im smiling... but u still gotta make it up to me\n",
      "29390                                                                                                                            yeahh\n",
      "25858                                                                         Presentation - done! And btw: my teacher is cute as hell\n",
      "28079    true true, I'm writing atm, trying b coherent about the last yrs&amp;string narratives through it but my meats rotting nicely\n",
      "21876                                      i guess i'll do both since i cant really_NEG decide_NEG which_NEG one_NEG to_NEG choose_NEG\n",
      "29826                                                                                                 Your such a riot!! You go girl!!\n",
      "12388                                                                                                         getting ready to babysit\n",
      "12512                                                                            omgggg!! Hawaii!! That's amazing!! I wanna live there\n",
      "22250                                                      #momoTLV is always good IVA will have a special price for #momoTLV guests..\n",
      "17637        I think I already regret telling rick I have an xbox... I'm losing him to that and twitter.. you still want it jimbo haha\n",
      "23821                                                                 i thinks thats right lol... please follow me... much appreciated\n",
      "21630                                                             In France it was last Friday and also the coming one, we are working\n",
      "11619                                                                            Draven's elbow met cement this afternoon Looks nasty.\n",
      "27461                                                                  its funny, I didn't even_NEG know_NEG it_NEG was_NEG there!_NEG\n",
      "5226               i got coupons to Popeye's chicken but I'll probably end up getting a burrito at freshii - this salad joint. healthy\n",
      "Name: content, dtype: object\n",
      "-------------------------------------------------\n",
      "False Negatives for class: 5 happiness\n",
      "18338                                               Thx had a great day &amp; gonna have a long weekend. Excited yet I'll be missin my tweeple badly.\n",
      "21810                                                                                                                   aww preciate the loves hunnie\n",
      "23746                                                                                             Wow, it's so early. Just had the best conversation.\n",
      "6490                                                                                              My Degree [Tear] happy moment! http://mypict.me/ZpF\n",
      "21658                                                    muhahaha you've joined the tweet cult... lol heya btw twitterific is a good iphone app i use\n",
      "21914                                                                                                                 to and thanks for following me.\n",
      "25355                                                                                                                         Saturday is Partytiiime\n",
      "24349                                                                                                     U r welcome pal u truly deserve be followed\n",
      "23721                               Itsurely will dear . in posted a presentation on Swine flu yest and it got downloads in just a day!!i feels great\n",
      "27888    oh yeah...haven't seem_NEG that_NEG in_NEG ages!!_NEG got_NEG to_NEG watch_NEG that_NEG soon!!_NEG thanks_NEG for_NEG reminding_NEG me!!_NEG\n",
      "18583                                                                                                              good job! I wish i worked in a zoo\n",
      "23409                                                                                                                                          Agree!\n",
      "14432                                        just saw UP it was a cute movie (:passed by a place called a peasants kitchen. wtf? that names kinda sad\n",
      "25579                                                                                                                              goooooood morning!\n",
      "28325                  all pugged in and ready to go. device updates on, so feel free to bombard me at any time. Time to actually get something done.\n",
      "4499                                                                              hahaha well why would you smack ME for that?! hahaha THE BIG BANGGG\n",
      "543                                     My little foster kittens are getting big...chubba and Winston are going b missed when they get amazing homes.\n",
      "12630                                                                              Being followed by compliance. Great. Have to watch what I say now.\n",
      "11008                                                                                                   hanging out at school... last day for seniors\n",
      "3858                     Now that I have a salary, I can actually spend money. Hooray! Time to go shopping and have dinner at Ahora to say goodbye to\n",
      "Name: content, dtype: object\n",
      "-------------------------------------------------\n",
      "False Negatives for class: 6 hate\n"
     ]
    },
    {
     "name": "stdout",
     "output_type": "stream",
     "text": [
      "10747                                                                                                                                                                              Walmart bails on sponsorship!\n",
      "27486                                                                                                                                                                                        playing pet society\n",
      "19383                                              : I saw US Postal was hiring, but once I was done filling out the pre-application thingy it didn't show_NEG me_NEG jobs_NEG open_NEG in_NEG the_NEG area._NEG\n",
      "7300                                                                                                        Got the keys to my new flat - gorgeous weather for weekend - and i'm spending it &quot;PACKING&quot;\n",
      "12279                                                                                                                                                 hates not having_NEG money_NEG roll_NEG on_NEG payday!_NEG\n",
      "16406                                                                                                                                      i don't wanna_NEG go_NEG back_NEG to_NEG school_NEG on_NEG monday_NEG\n",
      "5342     I have had it with job hunting. I try all day and nothing works_NEG I_NEG bet_NEG I_NEG couldn't_NEG even_NEG work_NEG at_NEG the_NEG strip_NEG club_NEG because_NEG of_NEG my_NEG cider_NEG belly!_NEG\n",
      "17119                                                                                                                                                     ahh i wish you guys would come to a hot topic near me.\n",
      "8836                                                                                         not funny_NEG he_NEG profiled_NEG my_NEG ass._NEG Like_NEG wtf?_NEG I'm_NEG still_NEG kinda_NEG heated._NEG Ugh_NEG\n",
      "17506                                                                                                                     awe.. that sucks and I can't... we're_NEG trying_NEG raffis'_NEG birthday_NEG &lt;_NEG\n",
      "9355                                                                                         Oh, fuck me. I've just returned from the Supermarket Of Doom to find that I have nothing to_NEG drink_NEG here._NEG\n",
      "18278                                                                                                                    Days left until freedom. I really just want to get through this weekend. I hate essays.\n",
      "21211                                                                                                                                                                               dw you never will_NEG xx_NEG\n",
      "14571                                                                                                   aw poor u DON'T let her get u just ignore her n keep ur head held high she iz just immature lil girl lol\n",
      "26521                                                                                      y r we giving up on people? I actually thought that way for a while too before I found someone who is very intriguing\n",
      "4014                                                                                                                                     suffering benadryl hangover this morning and a killer headache.... ugh!\n",
      "1366                                                                                                         I would be playing my old rogue but a friend took the account and could not get_NEG it_NEG back_NEG\n",
      "7226                                                                                                                                                      ahh I hate being sick Watching atonement! and sleeping\n",
      "17955                                                                               No FTP/Browser on the Mac I may visit an old Mac Lab or Sneakernet with ZIPs to Kinkos. Anyone with Fetch on a Floppy? DM me\n",
      "1251                                                                                                                                                             says BAD TRIP! (angry) http://plurk.com/p/wxshi\n",
      "Name: content, dtype: object\n",
      "-------------------------------------------------\n",
      "False Negatives for class: 7 love\n",
      "28441                                                                                    hi everyone, hoping all of you have a good week\n",
      "25592                                                                                        new album is truly genius, so happy with it\n",
      "20285                                                                     Hello!! sounds very good, you can count on me, I follow you!!!\n",
      "14119                                   Wow, I've officially lost all faith in Britain, looks like our wishes weren't met,_NEG sadly_NEG\n",
      "28050                                                                                      Great, social network sites are still growing\n",
      "6273                                                                              hey love whats up! my voice is shot whats new with you\n",
      "22795                                                                                                  awww cuuuute Newborns are so fun!\n",
      "3191                                                                                         You poor thing Hang in there. -xxx- luf joe\n",
      "2411                                                                                        what a bummer that tomorrow is friday again!\n",
      "25650                                        Had an awesome weekend and an awesome turn out to my rummage sales on friday and saturday!!\n",
      "1978     Ok so I did shed a few tears watching the preview for next weeks Medium. I'm so scared. I'm so addicted to this show. I love it\n",
      "25236                                                                                      hey! YAY! thanks! wow ur page is awesome!!!!!\n",
      "23066                                                     ? I had great time in Boston. Thanks to my baby girl. http://plurk.com/p/rplmy\n",
      "19477                                           ...thanks for the shout out...you might be right about the starving thing.... little lol\n",
      "23655                                                                                                            I'M A CELEBRITY TOOOOO!\n",
      "7380                                                                              ? THANK YOU sana matanggap ako http://plurk.com/p/xyts\n",
      "19395                                                Trying to reorganize plans for tonight uggg Hopefully it will still be lots 'o fun!\n",
      "13374                                                                                                                     awwwwww *hugs*\n",
      "26914                                                     Looking at my quince pics, ahh good memories.... To be young again.... Lol #fb\n",
      "28555                                                                                Watching HG-TV....and a cute carpenter guy woo hoo!\n",
      "Name: content, dtype: object\n",
      "-------------------------------------------------\n",
      "False Negatives for class: 8 neutral\n",
      "12573                                                                                                                                                                               Must head back to the office\n",
      "1476                                                                                                                                                                                              crash in Qmbol\n",
      "5120                                                                                                                                                                                    only more days of minnie\n",
      "20371    not sure_NEG I_NEG like_NEG this_NEG way_NEG to_NEG learn_NEG a_NEG new_NEG language_NEG I_NEG prefer_NEG to_NEG be_NEG &quot;on_NEG location&quot;,_NEG so_NEG I_NEG can_NEG practice,_NEG ask_NEG ...\n",
      "4984                                                                                                                        i love how nice the weather is today and i am camping tonight! oh and i hate my hair\n",
      "21382                                                                                                                                    I think that's the Muji stabilo. Because she was eyeing mine last week.\n",
      "537                                                                                                                                                                       still!! give your computer a break omg\n",
      "1292                                                                                                                                                        need a camera blower.. my camera censor is dirteeh..\n",
      "7842                                                                                                                                                                     i'm trying to figure that out right now\n",
      "1759                                                                                                                                                         excited for YSJ Summer Ball - I wish we had one too\n",
      "12582                                                                               Getting ready to ship a care package to the daughter. She's not coming_NEG home_NEG this_NEG summer_NEG from_NEG college_NEG\n",
      "3811                                                                                                                       is missing out on the sunshine and trying to stay awake after having just hours sleep\n",
      "12765                                                                                                  NCAA Baseball Road Omaha: South Carolina just hit a-run homerun. Dagger my heart. Mason - South Carolina.\n",
      "12866                                                                                                                                                                Tonight is the last Jay Leno late nigt show\n",
      "1906                                                                                                                                           we just missd each otha again! I was at disney all day YESTERday!\n",
      "7962                                                                                                Whew! Moving commercial-sized freezer and cooler a lot more work than I expected. Missing the HTC roundtable\n",
      "22920                                                                                                                                                     Looking forward to android being pushed to the G then?\n",
      "15421                                                                                                                                  is not getting_NEG her_NEG posts_NEG posted_NEG to_NEG the_NEG topics_NEG\n",
      "15451                                                                              I TRIED TO PUT A IRON ON , ON MY BOOK BAG AND I BURNT MY BAG WITH THE IRON LOL.. BUZZ KEEP MAKING FUN OF ME ... (BASTARD) LOL\n",
      "22073                                                                                              think to start off with but a house that can fit - or we may go the whole hog and get... not sure_NEG yet_NEG\n",
      "Name: content, dtype: object\n",
      "-------------------------------------------------\n",
      "False Negatives for class: 9 relief\n",
      "28279                                                                                                     That's the good part about it. YOU DON'T HAVE TO KNOW ANYONE!\n",
      "1684                                                                                                                       on that note - i do not feel_NEG missed._NEG\n",
      "8241                                                                                                                                                       work all day\n",
      "19976                                                            aww i'm sorry glad mommy took care of you. erin is in for some fun if there's a bug on you in colorado\n",
      "23228                                                                                                        it actually is ;) According to all the retweets, at least!\n",
      "12618                                                                                                                          not doing_NEG relay_NEG oh_NEG well._NEG\n",
      "2164                                                                                 Happy belated Birthday to Billy!! I forgot to say that on his bday. I feel aweful!\n",
      "10959                                                                             My replacement iron ring arrived. It's shiny. And a bit more jagged than the original\n",
      "18692                         i was so bored i decided to iron all my baju sklh. thn i realized i hate doing tht. so all i did was iron a sleeve HAHAHA. im off to schl\n",
      "27898    I'm grateful that my kids also don't like_NEG them,_NEG lol._NEG Textbooks_NEG are_NEG a_NEG tool,_NEG not_NEG the_NEG sole_NEG means_NEG of_NEG education_NEG\n",
      "1141                                                                                                                                                ME! I wanted to go.\n",
      "23468                  I've been quite lucky this weekend... Slight headache here n there, but nothing incapacitating_NEG yay_NEG me!_NEG Poor_NEG Carol_NEG tho..._NEG\n",
      "19331                                                                                             hey they do have that but these never bothered_NEG me_NEG before._NEG\n",
      "3629                                                                                                                   Roommate is sssnoring :/ And my throat is so dry\n",
      "1196                                                                                                                                          should updatd her twitter\n",
      "24972                                                                                                                      getting ready for my first day at my new job\n",
      "28838                                                                                                                     phew! made it thru the return of babysitting!\n",
      "1024                                                                                        Off work, trying to relax for about mins before I've gotta go back to sleep\n",
      "20514                                                                                                                      Ah, the bank holiday shift at work. What fun\n",
      "25815                                                                                 Drinking tea and eating choc chip cookies. Going to head to sleep soon! Night all\n",
      "Name: content, dtype: object\n",
      "-------------------------------------------------\n",
      "False Negatives for class: 10 sadness\n",
      "8856                                                                  I've got sunburn on my arm In better news, my new Guitar Hero: Metallica game came and I beyond happy about that.\n",
      "13012                                                                             Damn Frat - that's too bad... Should be a good show (at least I'm hoping so) esp. since it's in BK...\n",
      "6793                                                                 and he's not even_NEG fat!!!!_NEG Huh,_NEG He's_NEG just_NEG friggin_NEG huge!_NEG I_NEG have_NEG a_NEG freak._NEG\n",
      "13638                                                                                                   bad mood and i dont feel_NEG good._NEG too_NEG bad_NEG no_NEG one_NEG cares_NEG\n",
      "7818                                                                                                                                              Why is it soooo cold &amp; ugly out??\n",
      "6141                                                                                                                     lucky girl!!! I work all day tomorrow! and maybe even Monday!!\n",
      "9912                                                                                      At home sick.. On a friday...studying is all im doing at this point.. My weekend is so ruined\n",
      "343                                                                                                                                   Sad that Christian Lacroix had to file bankruptcy\n",
      "27266                                                                                                                                               sooo long twitters! I'm off to Cuba\n",
      "22964                                                                           cï¿½m on anh ko the chiu no~i noi nhï¿½ Tifa roi :-D, thang Cloud danh dam gi mac ke no :&quot;&gt;_NEG\n",
      "14701                                                                                                                      It'spm on a Friday night and I'm going to bed. How pathetic.\n",
      "13161                                                                                                                                                                my head is hurting\n",
      "10099                                                SHIT I lost my Star Trek ring! Starfleet Academy class ring w/ Golden Gate Bridge on it. Got it as high school graduation present.\n",
      "16791                                                       hoping it'll go away... I mean I get all teary at the drop of a hat anyway, but it's been truly awful lately - full out sad\n",
      "13818                                                     Aw, Kaelah I feel so bad for you. This sounds serious? Please get better soon. I admire you for still working hard and stuff.\n",
      "7920                                                                                                                                          they won't guys_NEG are_NEG retarded!_NEG\n",
      "11728    (cont.) Small children are not puppies._NEG And_NEG cleche_NEG sarcasm_NEG is_NEG so_NEG annoying._NEG Bcreative,_NEG but_NEG then_NEG again,_NEG that's_NEG too_NEG harrd_NEG\n",
      "4013               sadly no, sitting inside as mobile signal won't work_NEG in_NEG the_NEG garden_NEG I'll_NEG be_NEG opening_NEG the_NEG wine_NEG at_NEG bang_NEG onpm_NEG though!_NEG\n",
      "8322                                                                                                hillsong tom. night, and dad's birthday! i wish i could see him on his bday though.\n",
      "14878                                                                                                           i have officially hit the wall, totally nonfunctionalproductive at work\n",
      "Name: content, dtype: object\n",
      "-------------------------------------------------\n",
      "False Negatives for class: 11 surprise\n",
      "29621                                                                                                                                                                                     it's Mothers Day today\n",
      "12494                                                                                                                 wondering if my local Borders is going to make it. Lots of bare shelves... It makes me sad\n",
      "2684                                                                                                              Not ah huge fan of getting up in the middle of the night to change peed sheets and underpants.\n",
      "456                                                                                                                                 Not really sleepy ...bored is the right word ... again not much_NEG work_NEG\n",
      "1603                                                                            Getting rather annoyed at my notebook. I know it's old and has got wrinkles but it's never been_NEG this_NEG slow_NEG before_NEG\n",
      "18388                                                                                      ilooked in my phone book and ur name was the first to show and i was like i got ti-ti number but it was just ur email\n",
      "26825                                                                                                                                    Excited about having an empty apartment to ourselves for a little while\n",
      "5522                                                              u never told_NEG me_NEG abt_NEG ur_NEG date_NEG ..._NEG who_NEG is_NEG the_NEG lucky_NEG guy_NEG im_NEG so_NEG out_NEG of_NEG the_NEG loop_NEG\n",
      "5231                                                                                                                                                             Sometimes I wish I had my own Prototype mentor.\n",
      "6295     On the way back to dublin Omg didnt hit_NEG the_NEG bed_NEG until_NEG so_NEG i_NEG am_NEG so_NEG sleepy_NEG but_NEG once_NEG again_NEG on_NEG the_NEG road_NEG back_NEG to_NEG good_NEG ole_NEG dubl...\n",
      "4987                                                                                        is waiting for the estate agent to do valuation. oh joy. *sigh* i need to be in the funhouse pink baby come back!!!!\n",
      "15888                                                                                                                       OMG at that Almost in our's comment!! Same Bday as Joe here...But I turn..OMG....lol\n",
      "27765                                                                                                                                                                                             oh nice going!\n",
      "16249                                                                                                                                                          Yo nate, what's going on with Morgie? Is she ok??\n",
      "18268                                                                                                              Ecaytrade people who said you'd come by stuff at:.where are you ? Bugs me when people no-show\n",
      "6407                                                                                                                                        http://twitpic.com/sls - and I just saw this monster dog in the park\n",
      "21915                                                                                                                                           Oh, wow, you're fast How's life going ? It's been months ya ? XD\n",
      "23313                                                                                                                                                                                       Ba-dum-tish! You win\n",
      "7105                                                                          yes! sober HAHAHA tanghaling tapat dude! haha WILD. i don't knowwww_NEG plan_NEG plan_NEG before_NEG you_NEG go_NEG to_NEG US!_NEG\n",
      "10594                                                                                        i wish that mcfly dream was real aha, i want tom to write in my action plannner haaa, it would be awesome though ;D\n",
      "Name: content, dtype: object\n",
      "-------------------------------------------------\n",
      "False Negatives for class: 12 worry\n",
      "17945                                                                             Well, it's very hot out. And i want to listen to lines,vines,and trying times!!\n",
      "4461                                                                                                                                                   That sucks\n",
      "13444    cool that you liked germany and the awards! i saw you on TV cause i couldn't come_NEG to_NEG the_NEG comet_NEG and_NEG see_NEG you_NEG live_NEG xoxo_NEG\n",
      "26339                                                                                                      Listening to my favourite song... ALLAH KE BANDE HASDE\n",
      "5193                                            You must be doing different poetry to me. All we get is Catullus, some Ovid and and an extract from the Aeneid. x\n",
      "9186                                       Sitting in boring ass litterature listening to jack Johnson missing the gf soooooooooooooooooooooooooooooooooooo much.\n",
      "10030                                                                                                                               I had to find out via twitter\n",
      "11576                                                         i used to have an ozzy osbourne pillow with his face on it. my mom threw it out. i miss that thing.\n",
      "11084                                                                               lolz dude I have to stop it got too personal my homegirl my be on twitter lol\n",
      "16003                         yes - it has put a damper on us &quot;getting to know&quot; Georgetown! Instead he is watching tv and I am catching up on invoices.\n",
      "9300                                                                                                                                                not funny_NEG\n",
      "10834                                                                  is sad that she is not seeing_NEG Basshunter_NEG at_NEG Metroplex_NEG this_NEG weekend_NEG\n",
      "26462                                                                                                                                                     since '\n",
      "1602                                                                                                                  @ Pretty_Mess you missed all the free shots\n",
      "16336                                                      Better than what I did to my MacBook keyboard yesterday! (Spilled a whole cup of hot chocolate on it.)\n",
      "5739                                                                                                      very excited, although her train is going to be delayed\n",
      "17370                                                                                                                 Trying to figure out how this works ... BOO\n",
      "22931                                                                                                                     yeah that will keep my mid section down\n",
      "18145                                               Just finished bowling with my family. It's definately not the_NEG same_NEG as_NEG with_NEG my_NEG friends_NEG\n",
      "10562                                                                                      and I SIT HERE all on my own doing nowt hmmpfff lol..have a good night\n",
      "Name: content, dtype: object\n"
     ]
    }
   ],
   "source": [
    "pred_class_name = list(label_encoder.classes_)\n",
    "\n",
    "for pred_class_num in range(0,len(pred_class_name)):\n",
    "    print(\"-------------------------------------------------\")\n",
    "    print(\"False Negatives for class: {} {}\".format(pred_class_num, pred_class_name[pred_class_num]))\n",
    "    fn_class = X_test[(results_df.y_test == pred_class_num) & (results_df.y_pred != pred_class_num)]\n",
    "    print(fn_class.head(20))\n",
    "    "
   ]
  },
  {
   "cell_type": "markdown",
   "metadata": {},
   "source": [
    "### Feature Engineering from Baseline DataFrame\n",
    "\n",
    "At this point we have a baseline data frame and we can start to look at feature engineering."
   ]
  },
  {
   "cell_type": "code",
   "execution_count": 137,
   "metadata": {
    "collapsed": true
   },
   "outputs": [],
   "source": [
    "# Functions used to create different features from the text.\n",
    "def count_username_mentions(value):\n",
    "    return len(re.findall(r\"@[^\\s]+[\\s]?\", value))\n",
    "\n",
    "def count_ellipsis(value):\n",
    "    return len(re.findall(r\"\\.\\s?\\.\\s?\\.\", value))\n",
    "\n",
    "def count_hashtags(value):\n",
    "    return len(re.findall(r\"3[^\\s]+[\\s]?\", value))\n",
    "\n",
    "def count_exclamation_points(value):\n",
    "    groups = re.findall(r\"\\w+(!+)\", value)\n",
    "    return sum([len(exclamation_string) for exclamation_string in groups])\n",
    "\n",
    "def count_question_marks(value):\n",
    "    groups = re.findall(r\"[\\w+!](\\?+)\", value)\n",
    "    return sum([len(exclamation_string) for exclamation_string in groups])\n",
    "\n",
    "def is_boredom(y):\n",
    "    if 'bored' in y.lower() or 'boring' in y.lower():\n",
    "        return 1\n",
    "    else:\n",
    "        return 0\n"
   ]
  },
  {
   "cell_type": "code",
   "execution_count": 204,
   "metadata": {
    "collapsed": true
   },
   "outputs": [],
   "source": [
    "def make_features(df):\n",
    "    df['number_of_mentions'] = df.content.apply(count_username_mentions)\n",
    "    df['number_of_ellipsis'] = df.content.apply(count_ellipsis)\n",
    "    df['number_of_exclamations'] = df.content.apply(count_exclamation_points)\n",
    "    df['number_of_hashtabs'] = df.content.apply(count_hashtags)\n",
    "    df['number_of_question'] = df.content.apply(count_question_marks)\n",
    "    df['is_boredom'] = df.content.apply(is_boredom)\n",
    "    df['content_len'] = df.content.apply(len)\n",
    "\n"
   ]
  },
  {
   "cell_type": "code",
   "execution_count": 139,
   "metadata": {},
   "outputs": [
    {
     "data": {
      "text/html": [
       "<div>\n",
       "<style>\n",
       "    .dataframe thead tr:only-child th {\n",
       "        text-align: right;\n",
       "    }\n",
       "\n",
       "    .dataframe thead th {\n",
       "        text-align: left;\n",
       "    }\n",
       "\n",
       "    .dataframe tbody tr th {\n",
       "        vertical-align: top;\n",
       "    }\n",
       "</style>\n",
       "<table border=\"1\" class=\"dataframe\">\n",
       "  <thead>\n",
       "    <tr style=\"text-align: right;\">\n",
       "      <th></th>\n",
       "      <th>sentiment</th>\n",
       "      <th>content</th>\n",
       "    </tr>\n",
       "  </thead>\n",
       "  <tbody>\n",
       "    <tr>\n",
       "      <th>0</th>\n",
       "      <td>empty</td>\n",
       "      <td>@tiffanylue i know  i was listenin to bad habit earlier and i started freakin at his part =[</td>\n",
       "    </tr>\n",
       "    <tr>\n",
       "      <th>1</th>\n",
       "      <td>sadness</td>\n",
       "      <td>Layin n bed with a headache  ughhhh...waitin on your call...</td>\n",
       "    </tr>\n",
       "    <tr>\n",
       "      <th>2</th>\n",
       "      <td>sadness</td>\n",
       "      <td>Funeral ceremony...gloomy friday...</td>\n",
       "    </tr>\n",
       "    <tr>\n",
       "      <th>3</th>\n",
       "      <td>enthusiasm</td>\n",
       "      <td>wants to hang out with friends SOON!</td>\n",
       "    </tr>\n",
       "    <tr>\n",
       "      <th>4</th>\n",
       "      <td>neutral</td>\n",
       "      <td>@dannycastillo We want to trade with someone who has Houston tickets, but no one will.</td>\n",
       "    </tr>\n",
       "  </tbody>\n",
       "</table>\n",
       "</div>"
      ],
      "text/plain": [
       "    sentiment  \\\n",
       "0       empty   \n",
       "1     sadness   \n",
       "2     sadness   \n",
       "3  enthusiasm   \n",
       "4     neutral   \n",
       "\n",
       "                                                                                        content  \n",
       "0  @tiffanylue i know  i was listenin to bad habit earlier and i started freakin at his part =[  \n",
       "1                                  Layin n bed with a headache  ughhhh...waitin on your call...  \n",
       "2                                                           Funeral ceremony...gloomy friday...  \n",
       "3                                                          wants to hang out with friends SOON!  \n",
       "4        @dannycastillo We want to trade with someone who has Houston tickets, but no one will.  "
      ]
     },
     "execution_count": 139,
     "metadata": {},
     "output_type": "execute_result"
    }
   ],
   "source": [
    "raw_data = pd.read_csv('../data/kaggle/sa-emotions/train_data.csv')\n",
    "raw_data.head()"
   ]
  },
  {
   "cell_type": "code",
   "execution_count": 140,
   "metadata": {},
   "outputs": [
    {
     "data": {
      "text/html": [
       "<div>\n",
       "<style>\n",
       "    .dataframe thead tr:only-child th {\n",
       "        text-align: right;\n",
       "    }\n",
       "\n",
       "    .dataframe thead th {\n",
       "        text-align: left;\n",
       "    }\n",
       "\n",
       "    .dataframe tbody tr th {\n",
       "        vertical-align: top;\n",
       "    }\n",
       "</style>\n",
       "<table border=\"1\" class=\"dataframe\">\n",
       "  <thead>\n",
       "    <tr style=\"text-align: right;\">\n",
       "      <th></th>\n",
       "      <th>sentiment</th>\n",
       "      <th>content</th>\n",
       "      <th>number_of_mentions</th>\n",
       "      <th>number_of_ellipsis</th>\n",
       "      <th>number_of_exclamations</th>\n",
       "      <th>number_of_hashtabs</th>\n",
       "      <th>number_of_question</th>\n",
       "      <th>is_boredom</th>\n",
       "      <th>content_len</th>\n",
       "    </tr>\n",
       "  </thead>\n",
       "  <tbody>\n",
       "    <tr>\n",
       "      <th>0</th>\n",
       "      <td>empty</td>\n",
       "      <td>@tiffanylue i know  i was listenin to bad habit earlier and i started freakin at his part =[</td>\n",
       "      <td>1</td>\n",
       "      <td>0</td>\n",
       "      <td>0</td>\n",
       "      <td>0</td>\n",
       "      <td>0</td>\n",
       "      <td>0</td>\n",
       "      <td>92</td>\n",
       "    </tr>\n",
       "    <tr>\n",
       "      <th>1</th>\n",
       "      <td>sadness</td>\n",
       "      <td>Layin n bed with a headache  ughhhh...waitin on your call...</td>\n",
       "      <td>0</td>\n",
       "      <td>2</td>\n",
       "      <td>0</td>\n",
       "      <td>0</td>\n",
       "      <td>0</td>\n",
       "      <td>0</td>\n",
       "      <td>60</td>\n",
       "    </tr>\n",
       "    <tr>\n",
       "      <th>2</th>\n",
       "      <td>sadness</td>\n",
       "      <td>Funeral ceremony...gloomy friday...</td>\n",
       "      <td>0</td>\n",
       "      <td>2</td>\n",
       "      <td>0</td>\n",
       "      <td>0</td>\n",
       "      <td>0</td>\n",
       "      <td>0</td>\n",
       "      <td>35</td>\n",
       "    </tr>\n",
       "    <tr>\n",
       "      <th>3</th>\n",
       "      <td>enthusiasm</td>\n",
       "      <td>wants to hang out with friends SOON!</td>\n",
       "      <td>0</td>\n",
       "      <td>0</td>\n",
       "      <td>1</td>\n",
       "      <td>0</td>\n",
       "      <td>0</td>\n",
       "      <td>0</td>\n",
       "      <td>36</td>\n",
       "    </tr>\n",
       "    <tr>\n",
       "      <th>4</th>\n",
       "      <td>neutral</td>\n",
       "      <td>@dannycastillo We want to trade with someone who has Houston tickets, but no one will.</td>\n",
       "      <td>1</td>\n",
       "      <td>0</td>\n",
       "      <td>0</td>\n",
       "      <td>0</td>\n",
       "      <td>0</td>\n",
       "      <td>0</td>\n",
       "      <td>86</td>\n",
       "    </tr>\n",
       "  </tbody>\n",
       "</table>\n",
       "</div>"
      ],
      "text/plain": [
       "    sentiment  \\\n",
       "0       empty   \n",
       "1     sadness   \n",
       "2     sadness   \n",
       "3  enthusiasm   \n",
       "4     neutral   \n",
       "\n",
       "                                                                                        content  \\\n",
       "0  @tiffanylue i know  i was listenin to bad habit earlier and i started freakin at his part =[   \n",
       "1                                  Layin n bed with a headache  ughhhh...waitin on your call...   \n",
       "2                                                           Funeral ceremony...gloomy friday...   \n",
       "3                                                          wants to hang out with friends SOON!   \n",
       "4        @dannycastillo We want to trade with someone who has Houston tickets, but no one will.   \n",
       "\n",
       "   number_of_mentions  number_of_ellipsis  number_of_exclamations  \\\n",
       "0                   1                   0                       0   \n",
       "1                   0                   2                       0   \n",
       "2                   0                   2                       0   \n",
       "3                   0                   0                       1   \n",
       "4                   1                   0                       0   \n",
       "\n",
       "   number_of_hashtabs  number_of_question  is_boredom  content_len  \n",
       "0                   0                   0           0           92  \n",
       "1                   0                   0           0           60  \n",
       "2                   0                   0           0           35  \n",
       "3                   0                   0           0           36  \n",
       "4                   0                   0           0           86  "
      ]
     },
     "execution_count": 140,
     "metadata": {},
     "output_type": "execute_result"
    }
   ],
   "source": [
    "make_features(raw_data)\n",
    "raw_data.head()"
   ]
  },
  {
   "cell_type": "code",
   "execution_count": 142,
   "metadata": {},
   "outputs": [
    {
     "data": {
      "text/plain": [
       "<matplotlib.axes._subplots.AxesSubplot at 0x10e2d14a8>"
      ]
     },
     "execution_count": 142,
     "metadata": {},
     "output_type": "execute_result"
    },
    {
     "data": {
      "image/png": "[encoded data removed]",
      "text/plain": [
       "<matplotlib.figure.Figure at 0x10dd49f28>"
      ]
     },
     "metadata": {},
     "output_type": "display_data"
    }
   ],
   "source": [
    "# Create a boxplot showing the sentiment versus the content_len and see if there is any noticable\n",
    "# relationship between content length and the emotion\n",
    "# box plot of number ingredients for each cuisine\n",
    "raw_data.boxplot('content_len', by='sentiment')"
   ]
  },
  {
   "cell_type": "code",
   "execution_count": 143,
   "metadata": {
    "collapsed": true
   },
   "outputs": [],
   "source": [
    "def liu_hu_lexicon(sentence, verbose=False):\n",
    "    \"\"\"\n",
    "    Basic example of sentiment classification using Liu and Hu opinion lexicon.\n",
    "    This function simply counts the number of positive, negative and neutral words\n",
    "    in the sentence and classifies it depending on which polarity is more represented.\n",
    "    Words that do not appear in the lexicon are considered as neutral.\n",
    "\n",
    "    :param sentence: a sentence whose polarity has to be classified.\n",
    "    :param plot: if True, plot a visual representation of the sentence polarity.\n",
    "    :return array of integers: 1 = positive, 0 = neutral, -1 = negative\n",
    "    \"\"\"\n",
    "    from nltk.corpus import opinion_lexicon\n",
    "    from nltk.tokenize import treebank\n",
    "\n",
    "    tokenizer = treebank.TreebankWordTokenizer()\n",
    "    pos_words = 0\n",
    "    neg_words = 0\n",
    "    tokenized_sent = [word.lower() for word in tokenizer.tokenize(sentence)]\n",
    "\n",
    "    x = list(range(len(tokenized_sent))) # x axis for the plot\n",
    "    y = []\n",
    "\n",
    "    for word in tokenized_sent:\n",
    "        if word in opinion_lexicon.positive():\n",
    "            pos_words += 1\n",
    "            y.append(1) # positive\n",
    "        elif word in opinion_lexicon.negative():\n",
    "            neg_words += 1\n",
    "            y.append(-1) # negative\n",
    "        else:\n",
    "            y.append(0) # neutral\n",
    "\n",
    "    y_sum = sum(y) \n",
    "    if y_sum > 0:\n",
    "        disposition = 1\n",
    "    elif y_sum < 0:\n",
    "        disposition = -1\n",
    "    else:\n",
    "        disposition = 0\n",
    "    \n",
    "    if verbose:\n",
    "        if disposition == 1:\n",
    "            print('Positive: {}'.format(sentence))\n",
    "        elif disposition == -1:\n",
    "            print('Negative: {}'.format(sentence))\n",
    "        else:\n",
    "            print('Neutral: {}'.format(sentence))\n",
    "\n",
    "    return disposition\n"
   ]
  },
  {
   "cell_type": "code",
   "execution_count": 144,
   "metadata": {},
   "outputs": [],
   "source": [
    "# THIS TAKES A VERY VERY LONG TIME\n",
    "#liu_hu_lexicon_series = training_data.content.apply(liu_hu_lexicon)"
   ]
  },
  {
   "cell_type": "code",
   "execution_count": 145,
   "metadata": {},
   "outputs": [
    {
     "name": "stdout",
     "output_type": "stream",
     "text": [
      "sentiment\n",
      "anger         0.724490\n",
      "boredom       0.350318\n",
      "empty         0.270106\n",
      "enthusiasm    0.693487\n",
      "fun           0.718750\n",
      "happiness     0.807100\n",
      "hate          0.619208\n",
      "love          0.658607\n",
      "neutral       0.285804\n",
      "relief        0.491675\n",
      "sadness       0.411350\n",
      "surprise      0.542467\n",
      "worry         0.408180\n",
      "Name: number_of_exclamations, dtype: float64\n"
     ]
    }
   ],
   "source": [
    "grouped = raw_data.groupby('sentiment')\n",
    "print(grouped['number_of_exclamations'].agg(np.mean))"
   ]
  },
  {
   "cell_type": "code",
   "execution_count": 146,
   "metadata": {},
   "outputs": [
    {
     "name": "stdout",
     "output_type": "stream",
     "text": [
      "sentiment\n",
      "anger         0.438776\n",
      "boredom       0.254777\n",
      "empty         0.493171\n",
      "enthusiasm    0.507663\n",
      "fun           0.607537\n",
      "happiness     0.531815\n",
      "hate          0.364785\n",
      "love          0.575435\n",
      "neutral       0.547003\n",
      "relief        0.460333\n",
      "sadness       0.415079\n",
      "surprise      0.539988\n",
      "worry         0.439796\n",
      "Name: number_of_mentions, dtype: float64\n"
     ]
    }
   ],
   "source": [
    "grouped = raw_data.groupby('sentiment')\n",
    "print(grouped['number_of_mentions'].agg(np.mean))"
   ]
  },
  {
   "cell_type": "code",
   "execution_count": 147,
   "metadata": {},
   "outputs": [
    {
     "data": {
      "text/plain": [
       "<matplotlib.axes._subplots.AxesSubplot at 0x118249278>"
      ]
     },
     "execution_count": 147,
     "metadata": {},
     "output_type": "execute_result"
    },
    {
     "data": {
      "image/png": "[encoded data removed]",
      "text/plain": [
       "<matplotlib.figure.Figure at 0x116e7c080>"
      ]
     },
     "metadata": {},
     "output_type": "display_data"
    }
   ],
   "source": [
    "raw_data.boxplot('number_of_mentions', by='sentiment')"
   ]
  },
  {
   "cell_type": "markdown",
   "metadata": {},
   "source": [
    "## Write out the new Training DataFrame with the new feature columns.\n",
    "\n",
    "This training data set will be used as the input when working through the model."
   ]
  },
  {
   "cell_type": "code",
   "execution_count": 150,
   "metadata": {
    "collapsed": true
   },
   "outputs": [],
   "source": [
    "# write out the new dataframe\n",
    "\n",
    "raw_data.to_csv('../data/kaggle/sa-emotions/train_data_with_features.csv')"
   ]
  },
  {
   "cell_type": "code",
   "execution_count": 151,
   "metadata": {},
   "outputs": [
    {
     "data": {
      "text/plain": [
       "(30000, 9)"
      ]
     },
     "execution_count": 151,
     "metadata": {},
     "output_type": "execute_result"
    }
   ],
   "source": [
    "raw_data.shape"
   ]
  },
  {
   "cell_type": "markdown",
   "metadata": {},
   "source": [
    "# Ready for final Modeling\n",
    "\n",
    "We now have a training data set with the original content PLUS additional feature columns.\n",
    "\n",
    "Now we can read in the training data, and create the necessary preprocessing pipelines and feature unions to run the model."
   ]
  },
  {
   "cell_type": "code",
   "execution_count": 191,
   "metadata": {
    "collapsed": true
   },
   "outputs": [],
   "source": [
    "class SentimentNumberTransformer(TransformerMixin):\n",
    "\n",
    "    def __init__(self, unique_labels):\n",
    "        # encode the sentiment outcomes as a number using the LabelEncoder\n",
    "        # would like to create a column, e.g. sentiment_num, which is a numeric representation of the sentiment.\n",
    "        # this will have to also be applied to any test data.\n",
    "        self.label_encoder = LabelEncoder()\n",
    "\n",
    "        # fit the label encoder with the unique set of sentiments in the training data.\n",
    "        self.label_encoder.fit(unique_labels)\n",
    "\n",
    "    def fit(self, X, y=None):\n",
    "        return self\n",
    "\n",
    "    def transform(self, X):\n",
    "        \"\"\"\n",
    "\n",
    "        :param X: DataFrame\n",
    "        :return:\n",
    "        \"\"\"\n",
    "        X['sentiment_num'] = X.sentiment.apply(lambda x: self.label_encoder.transform([x])[0])\n",
    "        \n"
   ]
  },
  {
   "cell_type": "code",
   "execution_count": 242,
   "metadata": {},
   "outputs": [
    {
     "data": {
      "text/html": [
       "<div>\n",
       "<style>\n",
       "    .dataframe thead tr:only-child th {\n",
       "        text-align: right;\n",
       "    }\n",
       "\n",
       "    .dataframe thead th {\n",
       "        text-align: left;\n",
       "    }\n",
       "\n",
       "    .dataframe tbody tr th {\n",
       "        vertical-align: top;\n",
       "    }\n",
       "</style>\n",
       "<table border=\"1\" class=\"dataframe\">\n",
       "  <thead>\n",
       "    <tr style=\"text-align: right;\">\n",
       "      <th></th>\n",
       "      <th>sentiment</th>\n",
       "      <th>content</th>\n",
       "    </tr>\n",
       "  </thead>\n",
       "  <tbody>\n",
       "    <tr>\n",
       "      <th>0</th>\n",
       "      <td>empty</td>\n",
       "      <td>@tiffanylue i know  i was listenin to bad habit earlier and i started freakin at his part =[</td>\n",
       "    </tr>\n",
       "    <tr>\n",
       "      <th>1</th>\n",
       "      <td>sadness</td>\n",
       "      <td>Layin n bed with a headache  ughhhh...waitin on your call...</td>\n",
       "    </tr>\n",
       "    <tr>\n",
       "      <th>2</th>\n",
       "      <td>sadness</td>\n",
       "      <td>Funeral ceremony...gloomy friday...</td>\n",
       "    </tr>\n",
       "    <tr>\n",
       "      <th>3</th>\n",
       "      <td>enthusiasm</td>\n",
       "      <td>wants to hang out with friends SOON!</td>\n",
       "    </tr>\n",
       "    <tr>\n",
       "      <th>4</th>\n",
       "      <td>neutral</td>\n",
       "      <td>@dannycastillo We want to trade with someone who has Houston tickets, but no one will.</td>\n",
       "    </tr>\n",
       "  </tbody>\n",
       "</table>\n",
       "</div>"
      ],
      "text/plain": [
       "    sentiment  \\\n",
       "0       empty   \n",
       "1     sadness   \n",
       "2     sadness   \n",
       "3  enthusiasm   \n",
       "4     neutral   \n",
       "\n",
       "                                                                                        content  \n",
       "0  @tiffanylue i know  i was listenin to bad habit earlier and i started freakin at his part =[  \n",
       "1                                  Layin n bed with a headache  ughhhh...waitin on your call...  \n",
       "2                                                           Funeral ceremony...gloomy friday...  \n",
       "3                                                          wants to hang out with friends SOON!  \n",
       "4        @dannycastillo We want to trade with someone who has Houston tickets, but no one will.  "
      ]
     },
     "execution_count": 242,
     "metadata": {},
     "output_type": "execute_result"
    }
   ],
   "source": [
    "# read in the training data\n",
    "training_data = pd.read_csv('../data/kaggle/sa-emotions/train_data.csv')\n",
    "training_data.head()"
   ]
  },
  {
   "cell_type": "code",
   "execution_count": 243,
   "metadata": {},
   "outputs": [],
   "source": [
    "\"\"\"\n",
    "Read the data, setup the function transformers, add the features to the training data.\n",
    "\"\"\"\n",
    "\n",
    "# -----------------  Function Transformers ----------------\n",
    "def get_features_df(df):\n",
    "    return df.loc[:, ['number_of_mentions', 'number_of_ellipsis', 'number_of_exclamations', 'number_of_hashtabs', 'number_of_question', 'is_boredom', 'content_len']]\n",
    "\n",
    "def get_sentiment_content(df):\n",
    "    return df.content.copy()\n",
    "\n",
    "def get_sentiment_content_negation(df):\n",
    "    return df.content_negation.copy()\n",
    "\n",
    "def get_sentiment_content_preprocess_negation(df):\n",
    "    return df.content_preprocessed_negation\n",
    "\n",
    "\n",
    "# create a function transformer to just extract the feature columns\n",
    "get_features_transformer = FunctionTransformer(get_features_df, validate=False)\n",
    "# usage: get_features_transformer.transform(training_data_with_features).head()\n",
    "\n",
    "# create a function transformer to return the sentiment content so it can be used in pipeline/union\n",
    "get_sentiment_content_transformer = FunctionTransformer(get_sentiment_content, validate=False)\n",
    "\n",
    "get_sentiment_content_negation_transformer = FunctionTransformer(get_sentiment_content_negation, validate=False)\n",
    "\n",
    "get_sentiment_content_preprocess_negation_transformer = FunctionTransformer(get_sentiment_content_preprocess_negation, validate=False)\n",
    "\n",
    "# -----------------  End Function Transformers ----------------\n",
    "\n",
    "def preprocess_data_set(input_data_set):\n",
    "\n",
    "\n",
    "    # encode the sentiment outcomes as a number using the LabelEncoder\n",
    "    # would like to create a column, e.g. sentiment_num, which is a numeric representation of the sentiment.\n",
    "    # this will have to also be applied to any test data.\n",
    "    label_encoder = LabelEncoder()\n",
    "    # fit the label encoder with the unique set of sentiments in the training data.\n",
    "    label_encoder.fit(input_data_set.sentiment.unique())\n",
    "    # print out what classes were discovered\n",
    "    #print(list(label_encoder.classes_))\n",
    "    # add the sentiment_num column\n",
    "    input_data_set['sentiment_num'] = input_data_set.sentiment.apply(lambda x: label_encoder.transform([x])[0])\n",
    "\n",
    "    # Create a pipeline with the transformers we are keeping, and see the overall improvement.\n",
    "    preprocessor_pipeline = make_pipeline(get_sentiment_content_transformer, RemoveNumbersTransformer(), RemoveUsernameTransformer())\n",
    "    preprocessed_training_data_content = preprocessor_pipeline.transform(input_data_set)\n",
    "    input_data_set['content_preprocessed'] = preprocessed_training_data_content\n",
    "    input_data_set['content_preprocessed_negation'] = input_data_set.content_preprocessed.apply(mark_negation_sentence)\n",
    "\n",
    "    make_features(input_data_set)\n",
    "\n",
    "    #training_data.head()\n"
   ]
  },
  {
   "cell_type": "code",
   "execution_count": 244,
   "metadata": {
    "collapsed": true
   },
   "outputs": [],
   "source": [
    "preprocess_data_set(training_data)"
   ]
  },
  {
   "cell_type": "code",
   "execution_count": 245,
   "metadata": {},
   "outputs": [
    {
     "data": {
      "text/html": [
       "<div>\n",
       "<style>\n",
       "    .dataframe thead tr:only-child th {\n",
       "        text-align: right;\n",
       "    }\n",
       "\n",
       "    .dataframe thead th {\n",
       "        text-align: left;\n",
       "    }\n",
       "\n",
       "    .dataframe tbody tr th {\n",
       "        vertical-align: top;\n",
       "    }\n",
       "</style>\n",
       "<table border=\"1\" class=\"dataframe\">\n",
       "  <thead>\n",
       "    <tr style=\"text-align: right;\">\n",
       "      <th></th>\n",
       "      <th>sentiment</th>\n",
       "      <th>content</th>\n",
       "      <th>sentiment_num</th>\n",
       "      <th>content_preprocessed</th>\n",
       "      <th>content_preprocessed_negation</th>\n",
       "      <th>number_of_mentions</th>\n",
       "      <th>number_of_ellipsis</th>\n",
       "      <th>number_of_exclamations</th>\n",
       "      <th>number_of_hashtabs</th>\n",
       "      <th>number_of_question</th>\n",
       "      <th>is_boredom</th>\n",
       "      <th>content_len</th>\n",
       "    </tr>\n",
       "  </thead>\n",
       "  <tbody>\n",
       "    <tr>\n",
       "      <th>0</th>\n",
       "      <td>empty</td>\n",
       "      <td>@tiffanylue i know  i was listenin to bad habit earlier and i started freakin at his part =[</td>\n",
       "      <td>2</td>\n",
       "      <td>i know  i was listenin to bad habit earlier and i started freakin at his part =[</td>\n",
       "      <td>i know i was listenin to bad habit earlier and i started freakin at his part =[</td>\n",
       "      <td>1</td>\n",
       "      <td>0</td>\n",
       "      <td>0</td>\n",
       "      <td>0</td>\n",
       "      <td>0</td>\n",
       "      <td>0</td>\n",
       "      <td>92</td>\n",
       "    </tr>\n",
       "    <tr>\n",
       "      <th>1</th>\n",
       "      <td>sadness</td>\n",
       "      <td>Layin n bed with a headache  ughhhh...waitin on your call...</td>\n",
       "      <td>10</td>\n",
       "      <td>Layin n bed with a headache  ughhhh...waitin on your call...</td>\n",
       "      <td>Layin n bed with a headache ughhhh...waitin on your call...</td>\n",
       "      <td>0</td>\n",
       "      <td>2</td>\n",
       "      <td>0</td>\n",
       "      <td>0</td>\n",
       "      <td>0</td>\n",
       "      <td>0</td>\n",
       "      <td>60</td>\n",
       "    </tr>\n",
       "    <tr>\n",
       "      <th>2</th>\n",
       "      <td>sadness</td>\n",
       "      <td>Funeral ceremony...gloomy friday...</td>\n",
       "      <td>10</td>\n",
       "      <td>Funeral ceremony...gloomy friday...</td>\n",
       "      <td>Funeral ceremony...gloomy friday...</td>\n",
       "      <td>0</td>\n",
       "      <td>2</td>\n",
       "      <td>0</td>\n",
       "      <td>0</td>\n",
       "      <td>0</td>\n",
       "      <td>0</td>\n",
       "      <td>35</td>\n",
       "    </tr>\n",
       "    <tr>\n",
       "      <th>3</th>\n",
       "      <td>enthusiasm</td>\n",
       "      <td>wants to hang out with friends SOON!</td>\n",
       "      <td>3</td>\n",
       "      <td>wants to hang out with friends SOON!</td>\n",
       "      <td>wants to hang out with friends SOON!</td>\n",
       "      <td>0</td>\n",
       "      <td>0</td>\n",
       "      <td>1</td>\n",
       "      <td>0</td>\n",
       "      <td>0</td>\n",
       "      <td>0</td>\n",
       "      <td>36</td>\n",
       "    </tr>\n",
       "    <tr>\n",
       "      <th>4</th>\n",
       "      <td>neutral</td>\n",
       "      <td>@dannycastillo We want to trade with someone who has Houston tickets, but no one will.</td>\n",
       "      <td>8</td>\n",
       "      <td>We want to trade with someone who has Houston tickets, but no one will.</td>\n",
       "      <td>We want to trade with someone who has Houston tickets, but no one_NEG will._NEG</td>\n",
       "      <td>1</td>\n",
       "      <td>0</td>\n",
       "      <td>0</td>\n",
       "      <td>0</td>\n",
       "      <td>0</td>\n",
       "      <td>0</td>\n",
       "      <td>86</td>\n",
       "    </tr>\n",
       "  </tbody>\n",
       "</table>\n",
       "</div>"
      ],
      "text/plain": [
       "    sentiment  \\\n",
       "0       empty   \n",
       "1     sadness   \n",
       "2     sadness   \n",
       "3  enthusiasm   \n",
       "4     neutral   \n",
       "\n",
       "                                                                                        content  \\\n",
       "0  @tiffanylue i know  i was listenin to bad habit earlier and i started freakin at his part =[   \n",
       "1                                  Layin n bed with a headache  ughhhh...waitin on your call...   \n",
       "2                                                           Funeral ceremony...gloomy friday...   \n",
       "3                                                          wants to hang out with friends SOON!   \n",
       "4        @dannycastillo We want to trade with someone who has Houston tickets, but no one will.   \n",
       "\n",
       "   sentiment_num  \\\n",
       "0              2   \n",
       "1             10   \n",
       "2             10   \n",
       "3              3   \n",
       "4              8   \n",
       "\n",
       "                                                               content_preprocessed  \\\n",
       "0  i know  i was listenin to bad habit earlier and i started freakin at his part =[   \n",
       "1                      Layin n bed with a headache  ughhhh...waitin on your call...   \n",
       "2                                               Funeral ceremony...gloomy friday...   \n",
       "3                                              wants to hang out with friends SOON!   \n",
       "4           We want to trade with someone who has Houston tickets, but no one will.   \n",
       "\n",
       "                                                     content_preprocessed_negation  \\\n",
       "0  i know i was listenin to bad habit earlier and i started freakin at his part =[   \n",
       "1                      Layin n bed with a headache ughhhh...waitin on your call...   \n",
       "2                                              Funeral ceremony...gloomy friday...   \n",
       "3                                             wants to hang out with friends SOON!   \n",
       "4  We want to trade with someone who has Houston tickets, but no one_NEG will._NEG   \n",
       "\n",
       "   number_of_mentions  number_of_ellipsis  number_of_exclamations  \\\n",
       "0                   1                   0                       0   \n",
       "1                   0                   2                       0   \n",
       "2                   0                   2                       0   \n",
       "3                   0                   0                       1   \n",
       "4                   1                   0                       0   \n",
       "\n",
       "   number_of_hashtabs  number_of_question  is_boredom  content_len  \n",
       "0                   0                   0           0           92  \n",
       "1                   0                   0           0           60  \n",
       "2                   0                   0           0           35  \n",
       "3                   0                   0           0           36  \n",
       "4                   0                   0           0           86  "
      ]
     },
     "execution_count": 245,
     "metadata": {},
     "output_type": "execute_result"
    }
   ],
   "source": [
    "training_data.head()"
   ]
  },
  {
   "cell_type": "code",
   "execution_count": 248,
   "metadata": {},
   "outputs": [
    {
     "data": {
      "text/plain": [
       "0.32503805215779058"
      ]
     },
     "execution_count": 248,
     "metadata": {},
     "output_type": "execute_result"
    }
   ],
   "source": [
    "\n",
    "# create stemmer and vectorizer\n",
    "stemmer = nltk.stem.SnowballStemmer('english')\n",
    "stemmed_tfidf_vectorizer = StemmedTfidfVectorizer(stemmer=stemmer, min_df=5, max_df=0.8, ngram_range=(1,4), stop_words='english', sublinear_tf=True)\n",
    "\n",
    "\n",
    "union = make_union(make_pipeline(get_sentiment_content_preprocess_negation_transformer, stemmed_tfidf_vectorizer),\n",
    "                  get_features_transformer)\n",
    "\n",
    "# check to the resulting document term matrix\n",
    "#X_dtm = union.fit_transform(training_data)\n",
    "#X_dtm.shape\n",
    "\n",
    "\n",
    "y = training_data.sentiment_num\n",
    "\n",
    "\n",
    "# create LogisticRegression Model\n",
    "# 0.3250\n",
    "model = LogisticRegression(C=0.1)\n",
    "\n",
    "# 0.307\n",
    "#model = MultinomialNB()\n",
    "\n",
    "model_pipeline = make_pipeline(union, model)\n",
    "cross_val_score(model_pipeline, training_data, y, cv=5, scoring='accuracy').mean()\n",
    "\n"
   ]
  }
 ],
 "metadata": {
  "kernelspec": {
   "display_name": "Python 3",
   "language": "python",
   "name": "python3"
  },
  "language_info": {
   "codemirror_mode": {
    "name": "ipython",
    "version": 3
   },
   "file_extension": ".py",
   "mimetype": "text/x-python",
   "name": "python",
   "nbconvert_exporter": "python",
   "pygments_lexer": "ipython3",
   "version": "3.6.1"
  }
 },
 "nbformat": 4,
 "nbformat_minor": 2
}
